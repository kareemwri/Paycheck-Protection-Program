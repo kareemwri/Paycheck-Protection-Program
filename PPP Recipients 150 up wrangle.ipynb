{
 "cells": [
  {
   "cell_type": "markdown",
   "metadata": {},
   "source": [
    "<center>\n",
    "    <h1>Small Business Administration</h1>\n",
    "    <h2>Paycheck Protection Program Recipients</h2>\n",
    "    <h3>Wrangling $150k &amp; Up Loans</h3>\n",
    "</center>"
   ]
  },
  {
   "cell_type": "code",
   "execution_count": 1,
   "metadata": {},
   "outputs": [],
   "source": [
    "import pandas as pd"
   ]
  },
  {
   "cell_type": "code",
   "execution_count": 2,
   "metadata": {},
   "outputs": [],
   "source": [
    "df=pd.read_csv(r'D:\\Documents\\Projects\\PPP Recipients\\foia_150k_plus.csv',low_memory=False)"
   ]
  },
  {
   "cell_type": "code",
   "execution_count": 3,
   "metadata": {},
   "outputs": [],
   "source": [
    "ppp=df.copy()"
   ]
  },
  {
   "cell_type": "code",
   "execution_count": 4,
   "metadata": {},
   "outputs": [
    {
     "data": {
      "text/html": [
       "<div>\n",
       "<style scoped>\n",
       "    .dataframe tbody tr th:only-of-type {\n",
       "        vertical-align: middle;\n",
       "    }\n",
       "\n",
       "    .dataframe tbody tr th {\n",
       "        vertical-align: top;\n",
       "    }\n",
       "\n",
       "    .dataframe thead th {\n",
       "        text-align: right;\n",
       "    }\n",
       "</style>\n",
       "<table border=\"1\" class=\"dataframe\">\n",
       "  <thead>\n",
       "    <tr style=\"text-align: right;\">\n",
       "      <th></th>\n",
       "      <th>LoanRange</th>\n",
       "      <th>BusinessName</th>\n",
       "      <th>Address</th>\n",
       "      <th>City</th>\n",
       "      <th>State</th>\n",
       "      <th>Zip</th>\n",
       "      <th>NAICSCode</th>\n",
       "      <th>BusinessType</th>\n",
       "      <th>RaceEthnicity</th>\n",
       "      <th>Gender</th>\n",
       "      <th>Veteran</th>\n",
       "      <th>NonProfit</th>\n",
       "      <th>JobsRetained</th>\n",
       "      <th>DateApproved</th>\n",
       "      <th>Lender</th>\n",
       "      <th>CD</th>\n",
       "    </tr>\n",
       "  </thead>\n",
       "  <tbody>\n",
       "    <tr>\n",
       "      <th>0</th>\n",
       "      <td>a $5-10 million</td>\n",
       "      <td>ARCTIC SLOPE NATIVE ASSOCIATION, LTD.</td>\n",
       "      <td>7000 Uula St</td>\n",
       "      <td>BARROW</td>\n",
       "      <td>AK</td>\n",
       "      <td>99723.0</td>\n",
       "      <td>813920.0</td>\n",
       "      <td>Non-Profit Organization</td>\n",
       "      <td>Unanswered</td>\n",
       "      <td>Unanswered</td>\n",
       "      <td>Unanswered</td>\n",
       "      <td>Y</td>\n",
       "      <td>295.0</td>\n",
       "      <td>04/14/2020</td>\n",
       "      <td>National Cooperative Bank, National Association</td>\n",
       "      <td>AK - 00</td>\n",
       "    </tr>\n",
       "  </tbody>\n",
       "</table>\n",
       "</div>"
      ],
      "text/plain": [
       "         LoanRange                           BusinessName       Address  \\\n",
       "0  a $5-10 million  ARCTIC SLOPE NATIVE ASSOCIATION, LTD.  7000 Uula St   \n",
       "\n",
       "     City State      Zip  NAICSCode             BusinessType RaceEthnicity  \\\n",
       "0  BARROW    AK  99723.0   813920.0  Non-Profit Organization    Unanswered   \n",
       "\n",
       "       Gender     Veteran NonProfit  JobsRetained DateApproved  \\\n",
       "0  Unanswered  Unanswered         Y         295.0   04/14/2020   \n",
       "\n",
       "                                            Lender       CD  \n",
       "0  National Cooperative Bank, National Association  AK - 00  "
      ]
     },
     "execution_count": 4,
     "metadata": {},
     "output_type": "execute_result"
    }
   ],
   "source": [
    "ppp.head(1)"
   ]
  },
  {
   "cell_type": "code",
   "execution_count": 5,
   "metadata": {},
   "outputs": [
    {
     "name": "stdout",
     "output_type": "stream",
     "text": [
      "<class 'pandas.core.frame.DataFrame'>\n",
      "RangeIndex: 661218 entries, 0 to 661217\n",
      "Data columns (total 16 columns):\n",
      " #   Column         Non-Null Count   Dtype  \n",
      "---  ------         --------------   -----  \n",
      " 0   LoanRange      661218 non-null  object \n",
      " 1   BusinessName   661210 non-null  object \n",
      " 2   Address        661201 non-null  object \n",
      " 3   City           661203 non-null  object \n",
      " 4   State          661218 non-null  object \n",
      " 5   Zip            661202 non-null  float64\n",
      " 6   NAICSCode      654435 non-null  float64\n",
      " 7   BusinessType   659789 non-null  object \n",
      " 8   RaceEthnicity  661218 non-null  object \n",
      " 9   Gender         661218 non-null  object \n",
      " 10  Veteran        661218 non-null  object \n",
      " 11  NonProfit      42462 non-null   object \n",
      " 12  JobsRetained   620712 non-null  float64\n",
      " 13  DateApproved   661218 non-null  object \n",
      " 14  Lender         661218 non-null  object \n",
      " 15  CD             661218 non-null  object \n",
      "dtypes: float64(3), object(13)\n",
      "memory usage: 80.7+ MB\n"
     ]
    }
   ],
   "source": [
    "ppp.info()"
   ]
  },
  {
   "cell_type": "code",
   "execution_count": 6,
   "metadata": {},
   "outputs": [
    {
     "data": {
      "text/plain": [
       "array(['a $5-10 million', 'b $2-5 million', 'c $1-2 million',\n",
       "       'd $350,000-1 million', 'e $150,000-350,000'], dtype=object)"
      ]
     },
     "execution_count": 6,
     "metadata": {},
     "output_type": "execute_result"
    }
   ],
   "source": [
    "loans=ppp.LoanRange.unique()\n",
    "loans"
   ]
  },
  {
   "cell_type": "code",
   "execution_count": 7,
   "metadata": {},
   "outputs": [],
   "source": [
    "ppp.loc[ppp['LoanRange'] == loans[0], 'min loan'] = 5000000\n",
    "ppp.loc[ppp['LoanRange'] == loans[0], 'min loan'] = 2000000\n",
    "ppp.loc[ppp['LoanRange'] == loans[0], 'min loan'] = 1000000\n",
    "ppp.loc[ppp['LoanRange'] == loans[0], 'min loan'] = 350000\n",
    "ppp.loc[ppp['LoanRange'] == loans[0], 'min loan'] = 150000\n",
    "\n",
    "ppp.loc[ppp['LoanRange'] == loans[0], 'avg loan'] = 7500000\n",
    "ppp.loc[ppp['LoanRange'] == loans[0], 'avg loan'] = 3500000\n",
    "ppp.loc[ppp['LoanRange'] == loans[0], 'avg loan'] = 1500000\n",
    "ppp.loc[ppp['LoanRange'] == loans[0], 'avg loan'] = 675000\n",
    "ppp.loc[ppp['LoanRange'] == loans[0], 'avg loan'] = 250000\n",
    "\n",
    "ppp.loc[ppp['LoanRange'] == loans[0], 'max loan'] = 10000000\n",
    "ppp.loc[ppp['LoanRange'] == loans[0], 'max loan'] = 5000000\n",
    "ppp.loc[ppp['LoanRange'] == loans[0], 'max loan'] = 2000000\n",
    "ppp.loc[ppp['LoanRange'] == loans[0], 'max loan'] = 1000000\n",
    "ppp.loc[ppp['LoanRange'] == loans[0], 'max loan'] = 350000"
   ]
  },
  {
   "cell_type": "code",
   "execution_count": 8,
   "metadata": {},
   "outputs": [
    {
     "data": {
      "text/html": [
       "<div>\n",
       "<style scoped>\n",
       "    .dataframe tbody tr th:only-of-type {\n",
       "        vertical-align: middle;\n",
       "    }\n",
       "\n",
       "    .dataframe tbody tr th {\n",
       "        vertical-align: top;\n",
       "    }\n",
       "\n",
       "    .dataframe thead th {\n",
       "        text-align: right;\n",
       "    }\n",
       "</style>\n",
       "<table border=\"1\" class=\"dataframe\">\n",
       "  <thead>\n",
       "    <tr style=\"text-align: right;\">\n",
       "      <th></th>\n",
       "      <th>LoanRange</th>\n",
       "      <th>BusinessName</th>\n",
       "      <th>Address</th>\n",
       "      <th>City</th>\n",
       "      <th>State</th>\n",
       "      <th>Zip</th>\n",
       "      <th>NAICSCode</th>\n",
       "      <th>BusinessType</th>\n",
       "      <th>RaceEthnicity</th>\n",
       "      <th>Gender</th>\n",
       "      <th>Veteran</th>\n",
       "      <th>NonProfit</th>\n",
       "      <th>JobsRetained</th>\n",
       "      <th>DateApproved</th>\n",
       "      <th>Lender</th>\n",
       "      <th>CD</th>\n",
       "      <th>min loan</th>\n",
       "      <th>avg loan</th>\n",
       "      <th>max loan</th>\n",
       "    </tr>\n",
       "  </thead>\n",
       "  <tbody>\n",
       "    <tr>\n",
       "      <th>0</th>\n",
       "      <td>a $5-10 million</td>\n",
       "      <td>ARCTIC SLOPE NATIVE ASSOCIATION, LTD.</td>\n",
       "      <td>7000 Uula St</td>\n",
       "      <td>BARROW</td>\n",
       "      <td>AK</td>\n",
       "      <td>99723.0</td>\n",
       "      <td>813920.0</td>\n",
       "      <td>Non-Profit Organization</td>\n",
       "      <td>Unanswered</td>\n",
       "      <td>Unanswered</td>\n",
       "      <td>Unanswered</td>\n",
       "      <td>Y</td>\n",
       "      <td>295.0</td>\n",
       "      <td>04/14/2020</td>\n",
       "      <td>National Cooperative Bank, National Association</td>\n",
       "      <td>AK - 00</td>\n",
       "      <td>150000.0</td>\n",
       "      <td>250000.0</td>\n",
       "      <td>350000.0</td>\n",
       "    </tr>\n",
       "  </tbody>\n",
       "</table>\n",
       "</div>"
      ],
      "text/plain": [
       "         LoanRange                           BusinessName       Address  \\\n",
       "0  a $5-10 million  ARCTIC SLOPE NATIVE ASSOCIATION, LTD.  7000 Uula St   \n",
       "\n",
       "     City State      Zip  NAICSCode             BusinessType RaceEthnicity  \\\n",
       "0  BARROW    AK  99723.0   813920.0  Non-Profit Organization    Unanswered   \n",
       "\n",
       "       Gender     Veteran NonProfit  JobsRetained DateApproved  \\\n",
       "0  Unanswered  Unanswered         Y         295.0   04/14/2020   \n",
       "\n",
       "                                            Lender       CD  min loan  \\\n",
       "0  National Cooperative Bank, National Association  AK - 00  150000.0   \n",
       "\n",
       "   avg loan  max loan  \n",
       "0  250000.0  350000.0  "
      ]
     },
     "execution_count": 8,
     "metadata": {},
     "output_type": "execute_result"
    }
   ],
   "source": [
    "ppp.head(1)"
   ]
  },
  {
   "cell_type": "code",
   "execution_count": 9,
   "metadata": {},
   "outputs": [
    {
     "data": {
      "text/html": [
       "<div>\n",
       "<style scoped>\n",
       "    .dataframe tbody tr th:only-of-type {\n",
       "        vertical-align: middle;\n",
       "    }\n",
       "\n",
       "    .dataframe tbody tr th {\n",
       "        vertical-align: top;\n",
       "    }\n",
       "\n",
       "    .dataframe thead th {\n",
       "        text-align: right;\n",
       "    }\n",
       "</style>\n",
       "<table border=\"1\" class=\"dataframe\">\n",
       "  <thead>\n",
       "    <tr style=\"text-align: right;\">\n",
       "      <th></th>\n",
       "      <th>LoanRange</th>\n",
       "      <th>BusinessName</th>\n",
       "      <th>Address</th>\n",
       "      <th>City</th>\n",
       "      <th>State</th>\n",
       "      <th>Zip</th>\n",
       "      <th>NAICSCode</th>\n",
       "      <th>BusinessType</th>\n",
       "      <th>RaceEthnicity</th>\n",
       "      <th>Gender</th>\n",
       "      <th>Veteran</th>\n",
       "      <th>NonProfit</th>\n",
       "      <th>JobsRetained</th>\n",
       "      <th>DateApproved</th>\n",
       "      <th>Lender</th>\n",
       "      <th>CD</th>\n",
       "      <th>min loan</th>\n",
       "      <th>avg loan</th>\n",
       "      <th>max loan</th>\n",
       "    </tr>\n",
       "  </thead>\n",
       "  <tbody>\n",
       "    <tr>\n",
       "      <th>0</th>\n",
       "      <td>a $5-10 million</td>\n",
       "      <td>ARCTIC SLOPE NATIVE ASSOCIATION, LTD.</td>\n",
       "      <td>7000 Uula St</td>\n",
       "      <td>BARROW</td>\n",
       "      <td>AK</td>\n",
       "      <td>99723.0</td>\n",
       "      <td>813920.0</td>\n",
       "      <td>Non-Profit Organization</td>\n",
       "      <td>Unanswered</td>\n",
       "      <td>Unanswered</td>\n",
       "      <td>Unanswered</td>\n",
       "      <td>Y</td>\n",
       "      <td>295.0</td>\n",
       "      <td>04/14/2020</td>\n",
       "      <td>National Cooperative Bank, National Association</td>\n",
       "      <td>AK - 00</td>\n",
       "      <td>150000.0</td>\n",
       "      <td>250000.0</td>\n",
       "      <td>350000.0</td>\n",
       "    </tr>\n",
       "  </tbody>\n",
       "</table>\n",
       "</div>"
      ],
      "text/plain": [
       "         LoanRange                           BusinessName       Address  \\\n",
       "0  a $5-10 million  ARCTIC SLOPE NATIVE ASSOCIATION, LTD.  7000 Uula St   \n",
       "\n",
       "     City State      Zip  NAICSCode             BusinessType RaceEthnicity  \\\n",
       "0  BARROW    AK  99723.0   813920.0  Non-Profit Organization    Unanswered   \n",
       "\n",
       "       Gender     Veteran NonProfit  JobsRetained DateApproved  \\\n",
       "0  Unanswered  Unanswered         Y         295.0   04/14/2020   \n",
       "\n",
       "                                            Lender       CD  min loan  \\\n",
       "0  National Cooperative Bank, National Association  AK - 00  150000.0   \n",
       "\n",
       "   avg loan  max loan  \n",
       "0  250000.0  350000.0  "
      ]
     },
     "metadata": {},
     "output_type": "display_data"
    },
    {
     "data": {
      "text/html": [
       "<div>\n",
       "<style scoped>\n",
       "    .dataframe tbody tr th:only-of-type {\n",
       "        vertical-align: middle;\n",
       "    }\n",
       "\n",
       "    .dataframe tbody tr th {\n",
       "        vertical-align: top;\n",
       "    }\n",
       "\n",
       "    .dataframe thead th {\n",
       "        text-align: right;\n",
       "    }\n",
       "</style>\n",
       "<table border=\"1\" class=\"dataframe\">\n",
       "  <thead>\n",
       "    <tr style=\"text-align: right;\">\n",
       "      <th></th>\n",
       "      <th>LoanRange</th>\n",
       "      <th>BusinessName</th>\n",
       "      <th>Address</th>\n",
       "      <th>City</th>\n",
       "      <th>State</th>\n",
       "      <th>Zip</th>\n",
       "      <th>NAICSCode</th>\n",
       "      <th>BusinessType</th>\n",
       "      <th>RaceEthnicity</th>\n",
       "      <th>Gender</th>\n",
       "      <th>Veteran</th>\n",
       "      <th>NonProfit</th>\n",
       "      <th>JobsRetained</th>\n",
       "      <th>DateApproved</th>\n",
       "      <th>Lender</th>\n",
       "      <th>CD</th>\n",
       "      <th>min loan</th>\n",
       "      <th>avg loan</th>\n",
       "      <th>max loan</th>\n",
       "    </tr>\n",
       "  </thead>\n",
       "  <tbody>\n",
       "    <tr>\n",
       "      <th>0</th>\n",
       "      <td>a $5-10 million</td>\n",
       "      <td>ARCTIC SLOPE NATIVE ASSOCIATION, LTD.</td>\n",
       "      <td>7000 Uula St</td>\n",
       "      <td>BARROW</td>\n",
       "      <td>AK</td>\n",
       "      <td>99723.0</td>\n",
       "      <td>813920.0</td>\n",
       "      <td>Non-Profit Organization</td>\n",
       "      <td>Unanswered</td>\n",
       "      <td>Unanswered</td>\n",
       "      <td>Unanswered</td>\n",
       "      <td>Y</td>\n",
       "      <td>295.0</td>\n",
       "      <td>04/14/2020</td>\n",
       "      <td>National Cooperative Bank, National Association</td>\n",
       "      <td>AK - 00</td>\n",
       "      <td>150000.0</td>\n",
       "      <td>250000.0</td>\n",
       "      <td>350000.0</td>\n",
       "    </tr>\n",
       "  </tbody>\n",
       "</table>\n",
       "</div>"
      ],
      "text/plain": [
       "         LoanRange                           BusinessName       Address  \\\n",
       "0  a $5-10 million  ARCTIC SLOPE NATIVE ASSOCIATION, LTD.  7000 Uula St   \n",
       "\n",
       "     City State      Zip  NAICSCode             BusinessType RaceEthnicity  \\\n",
       "0  BARROW    AK  99723.0   813920.0  Non-Profit Organization    Unanswered   \n",
       "\n",
       "       Gender     Veteran NonProfit  JobsRetained DateApproved  \\\n",
       "0  Unanswered  Unanswered         Y         295.0   04/14/2020   \n",
       "\n",
       "                                            Lender       CD  min loan  \\\n",
       "0  National Cooperative Bank, National Association  AK - 00  150000.0   \n",
       "\n",
       "   avg loan  max loan  \n",
       "0  250000.0  350000.0  "
      ]
     },
     "metadata": {},
     "output_type": "display_data"
    }
   ],
   "source": [
    "ppp.NAICSCode.unique()\n",
    "p=ppp.copy()\n",
    "p.NAICSCode = p.NAICSCode.fillna(0)\n",
    "display(ppp.head(1))\n",
    "#pd.to_numeric(p.NAICSCode)\n",
    "p.NAICSCode=p.NAICSCode.astype(int)\n",
    "display(ppp.head(1))"
   ]
  },
  {
   "cell_type": "code",
   "execution_count": 10,
   "metadata": {},
   "outputs": [
    {
     "name": "stdout",
     "output_type": "stream",
     "text": [
      "   naics                       industry\n",
      "0    111  Crop ProductionT             \n",
      "   Sector                                 Description\n",
      "0      11  Agriculture, Forestry, Fishing and Hunting\n",
      "   naics                       industry\n",
      "0    111  Crop ProductionT             \n",
      "   Sector                                 Description\n",
      "0      11  Agriculture, Forestry, Fishing and Hunting\n"
     ]
    }
   ],
   "source": [
    "industry=pd.read_csv(r'D:\\Documents\\Projects\\naics industry.csv')\n",
    "print(industry.head(1))\n",
    "sector=pd.read_csv(r'D:Documents\\Projects\\naics sector.csv')\n",
    "print(sector.head(1))\n",
    "industry.industry.str.strip()\n",
    "print(industry.head(1))\n",
    "sector.Description.str.strip()\n",
    "print(sector.head(1))"
   ]
  },
  {
   "cell_type": "code",
   "execution_count": 11,
   "metadata": {},
   "outputs": [
    {
     "name": "stdout",
     "output_type": "stream",
     "text": [
      "['Crop ProductionT             ', 'Oilseed and Grain FarmingT           ', 'FarmingT              ']\n",
      "['Crop ProductionT', 'Oilseed and Grain FarmingT', 'FarmingT']\n",
      "['Crop ProductionT', 'Oilseed and Grain FarmingT', 'FarmingT']\n"
     ]
    }
   ],
   "source": [
    "code=industry.naics.tolist()\n",
    "desc=industry.industry.tolist()\n",
    "scode=sector.Sector.tolist()\n",
    "sdesc=sector.Description.tolist()\n",
    "print(desc[0:3])\n",
    "des=[]\n",
    "for d in desc:\n",
    "    des.append(d.rstrip(' '))\n",
    "print(des[0:3])\n",
    "desc=des\n",
    "print(desc[0:3])"
   ]
  },
  {
   "cell_type": "code",
   "execution_count": 12,
   "metadata": {},
   "outputs": [
    {
     "name": "stdout",
     "output_type": "stream",
     "text": [
      "107\n",
      "FishingT\n",
      "1141\n",
      "11\n"
     ]
    }
   ],
   "source": [
    "print(code.index(1141))\n",
    "print(desc[107])\n",
    "print(code[107])\n",
    "print(str(code[107])[:2])"
   ]
  },
  {
   "cell_type": "code",
   "execution_count": 13,
   "metadata": {},
   "outputs": [],
   "source": [
    "pcodes=ppp.NAICSCode.tolist()"
   ]
  },
  {
   "cell_type": "code",
   "execution_count": 14,
   "metadata": {},
   "outputs": [],
   "source": [
    "ind=[]\n",
    "sec=[]\n",
    "secC=[]\n",
    "for p in pcodes:\n",
    "    pc=str(p)\n",
    "    try:\n",
    "        p=int(pc[:-2])\n",
    "        sc=int(pc[:2])\n",
    "        try:\n",
    "            index=code.index(p)\n",
    "            ind.append(desc[index])\n",
    "            sindex=scode.index(sc)\n",
    "            sec.append(sdesc[sindex])\n",
    "            secC.append(int(scode[sindex]))\n",
    "        except:\n",
    "            ind.append('NA')\n",
    "            sec.append('NA')\n",
    "            secC.append(0)\n",
    "    except:\n",
    "        ind.append('NA')\n",
    "        sec.append('NA')\n",
    "        secC.append(0)"
   ]
  },
  {
   "cell_type": "code",
   "execution_count": 15,
   "metadata": {},
   "outputs": [
    {
     "name": "stdout",
     "output_type": "stream",
     "text": [
      "['Organizations', 'Foundation, Structure, and Building Exterior Contractors']\n",
      "0    813920.0\n",
      "1    238190.0\n",
      "Name: NAICSCode, dtype: float64\n",
      "['Other Services (except Public Administration)', 'Construction']\n",
      "[81, 23]\n",
      "661218\n",
      "661218\n",
      "661218\n"
     ]
    }
   ],
   "source": [
    "print(ind[0:2])\n",
    "print(ppp.NAICSCode[0:2])\n",
    "print(sec[:2])\n",
    "print(secC[0:2])\n",
    "\n",
    "print(len(ind))\n",
    "print(len(sec))\n",
    "print(len(secC))"
   ]
  },
  {
   "cell_type": "code",
   "execution_count": 16,
   "metadata": {},
   "outputs": [],
   "source": [
    "ppp['Industry']=ind\n",
    "ppp['SectorCode']=secC\n",
    "ppp['Sector']=sec"
   ]
  },
  {
   "cell_type": "code",
   "execution_count": 17,
   "metadata": {},
   "outputs": [
    {
     "data": {
      "text/html": [
       "<div>\n",
       "<style scoped>\n",
       "    .dataframe tbody tr th:only-of-type {\n",
       "        vertical-align: middle;\n",
       "    }\n",
       "\n",
       "    .dataframe tbody tr th {\n",
       "        vertical-align: top;\n",
       "    }\n",
       "\n",
       "    .dataframe thead th {\n",
       "        text-align: right;\n",
       "    }\n",
       "</style>\n",
       "<table border=\"1\" class=\"dataframe\">\n",
       "  <thead>\n",
       "    <tr style=\"text-align: right;\">\n",
       "      <th></th>\n",
       "      <th>LoanRange</th>\n",
       "      <th>BusinessName</th>\n",
       "      <th>Address</th>\n",
       "      <th>City</th>\n",
       "      <th>State</th>\n",
       "      <th>Zip</th>\n",
       "      <th>NAICSCode</th>\n",
       "      <th>BusinessType</th>\n",
       "      <th>RaceEthnicity</th>\n",
       "      <th>Gender</th>\n",
       "      <th>...</th>\n",
       "      <th>JobsRetained</th>\n",
       "      <th>DateApproved</th>\n",
       "      <th>Lender</th>\n",
       "      <th>CD</th>\n",
       "      <th>min loan</th>\n",
       "      <th>avg loan</th>\n",
       "      <th>max loan</th>\n",
       "      <th>Industry</th>\n",
       "      <th>SectorCode</th>\n",
       "      <th>Sector</th>\n",
       "    </tr>\n",
       "  </thead>\n",
       "  <tbody>\n",
       "    <tr>\n",
       "      <th>0</th>\n",
       "      <td>a $5-10 million</td>\n",
       "      <td>ARCTIC SLOPE NATIVE ASSOCIATION, LTD.</td>\n",
       "      <td>7000 Uula St</td>\n",
       "      <td>BARROW</td>\n",
       "      <td>AK</td>\n",
       "      <td>99723.0</td>\n",
       "      <td>813920.0</td>\n",
       "      <td>Non-Profit Organization</td>\n",
       "      <td>Unanswered</td>\n",
       "      <td>Unanswered</td>\n",
       "      <td>...</td>\n",
       "      <td>295.0</td>\n",
       "      <td>04/14/2020</td>\n",
       "      <td>National Cooperative Bank, National Association</td>\n",
       "      <td>AK - 00</td>\n",
       "      <td>150000.0</td>\n",
       "      <td>250000.0</td>\n",
       "      <td>350000.0</td>\n",
       "      <td>Organizations</td>\n",
       "      <td>81</td>\n",
       "      <td>Other Services (except Public Administration)</td>\n",
       "    </tr>\n",
       "  </tbody>\n",
       "</table>\n",
       "<p>1 rows × 22 columns</p>\n",
       "</div>"
      ],
      "text/plain": [
       "         LoanRange                           BusinessName       Address  \\\n",
       "0  a $5-10 million  ARCTIC SLOPE NATIVE ASSOCIATION, LTD.  7000 Uula St   \n",
       "\n",
       "     City State      Zip  NAICSCode             BusinessType RaceEthnicity  \\\n",
       "0  BARROW    AK  99723.0   813920.0  Non-Profit Organization    Unanswered   \n",
       "\n",
       "       Gender  ... JobsRetained DateApproved  \\\n",
       "0  Unanswered  ...        295.0   04/14/2020   \n",
       "\n",
       "                                            Lender       CD  min loan  \\\n",
       "0  National Cooperative Bank, National Association  AK - 00  150000.0   \n",
       "\n",
       "   avg loan  max loan       Industry  SectorCode  \\\n",
       "0  250000.0  350000.0  Organizations          81   \n",
       "\n",
       "                                          Sector  \n",
       "0  Other Services (except Public Administration)  \n",
       "\n",
       "[1 rows x 22 columns]"
      ]
     },
     "execution_count": 17,
     "metadata": {},
     "output_type": "execute_result"
    }
   ],
   "source": [
    "ppp.head(1)"
   ]
  },
  {
   "cell_type": "code",
   "execution_count": 18,
   "metadata": {},
   "outputs": [],
   "source": [
    "ppp.to_csv(r'D:\\Documents\\Projects\\foia_150k_plus_updated.csv')"
   ]
  }
 ],
 "metadata": {
  "kernelspec": {
   "display_name": "Python 3",
   "language": "python",
   "name": "python3"
  },
  "language_info": {
   "codemirror_mode": {
    "name": "ipython",
    "version": 3
   },
   "file_extension": ".py",
   "mimetype": "text/x-python",
   "name": "python",
   "nbconvert_exporter": "python",
   "pygments_lexer": "ipython3",
   "version": "3.7.6"
  }
 },
 "nbformat": 4,
 "nbformat_minor": 4
}
