{
 "cells": [
  {
   "cell_type": "markdown",
   "metadata": {},
   "source": [
    "<center>\n",
    "    <h1>Small Business Administration</h1>\n",
    "    <h2>Paycheck Protection Program Recipients</h2>\n",
    "    <h3>Consolidating Files</h3>\n",
    "</center>"
   ]
  },
  {
   "cell_type": "code",
   "execution_count": 3,
   "metadata": {},
   "outputs": [],
   "source": [
    "import os\n",
    "import re"
   ]
  },
  {
   "cell_type": "code",
   "execution_count": 8,
   "metadata": {},
   "outputs": [
    {
     "data": {
      "text/plain": [
       "'D:\\\\Documents\\\\Projects\\\\PPP All Data by State\\\\150k plus'"
      ]
     },
     "metadata": {},
     "output_type": "display_data"
    },
    {
     "data": {
      "text/plain": [
       "'D:\\\\Documents\\\\Projects\\\\PPP All Data by State\\\\Alabama'"
      ]
     },
     "metadata": {},
     "output_type": "display_data"
    },
    {
     "data": {
      "text/plain": [
       "'D:\\\\Documents\\\\Projects\\\\PPP All Data by State\\\\Alaska'"
      ]
     },
     "metadata": {},
     "output_type": "display_data"
    },
    {
     "data": {
      "text/plain": [
       "'D:\\\\Documents\\\\Projects\\\\PPP All Data by State\\\\American Samoa'"
      ]
     },
     "metadata": {},
     "output_type": "display_data"
    },
    {
     "data": {
      "text/plain": [
       "'D:\\\\Documents\\\\Projects\\\\PPP All Data by State\\\\Arizona'"
      ]
     },
     "metadata": {},
     "output_type": "display_data"
    },
    {
     "data": {
      "text/plain": [
       "'D:\\\\Documents\\\\Projects\\\\PPP All Data by State\\\\Arkansas'"
      ]
     },
     "metadata": {},
     "output_type": "display_data"
    },
    {
     "data": {
      "text/plain": [
       "'D:\\\\Documents\\\\Projects\\\\PPP All Data by State\\\\California'"
      ]
     },
     "metadata": {},
     "output_type": "display_data"
    },
    {
     "data": {
      "text/plain": [
       "'D:\\\\Documents\\\\Projects\\\\PPP All Data by State\\\\Colorado'"
      ]
     },
     "metadata": {},
     "output_type": "display_data"
    },
    {
     "data": {
      "text/plain": [
       "'D:\\\\Documents\\\\Projects\\\\PPP All Data by State\\\\Connecticut'"
      ]
     },
     "metadata": {},
     "output_type": "display_data"
    },
    {
     "data": {
      "text/plain": [
       "'D:\\\\Documents\\\\Projects\\\\PPP All Data by State\\\\Delaware'"
      ]
     },
     "metadata": {},
     "output_type": "display_data"
    },
    {
     "data": {
      "text/plain": [
       "'D:\\\\Documents\\\\Projects\\\\PPP All Data by State\\\\District of Columbia'"
      ]
     },
     "metadata": {},
     "output_type": "display_data"
    },
    {
     "data": {
      "text/plain": [
       "'D:\\\\Documents\\\\Projects\\\\PPP All Data by State\\\\Florida'"
      ]
     },
     "metadata": {},
     "output_type": "display_data"
    },
    {
     "data": {
      "text/plain": [
       "'D:\\\\Documents\\\\Projects\\\\PPP All Data by State\\\\Georgia'"
      ]
     },
     "metadata": {},
     "output_type": "display_data"
    },
    {
     "data": {
      "text/plain": [
       "'D:\\\\Documents\\\\Projects\\\\PPP All Data by State\\\\Guam'"
      ]
     },
     "metadata": {},
     "output_type": "display_data"
    },
    {
     "data": {
      "text/plain": [
       "'D:\\\\Documents\\\\Projects\\\\PPP All Data by State\\\\Hawaii'"
      ]
     },
     "metadata": {},
     "output_type": "display_data"
    },
    {
     "data": {
      "text/plain": [
       "'D:\\\\Documents\\\\Projects\\\\PPP All Data by State\\\\Idaho'"
      ]
     },
     "metadata": {},
     "output_type": "display_data"
    },
    {
     "data": {
      "text/plain": [
       "'D:\\\\Documents\\\\Projects\\\\PPP All Data by State\\\\Illinois'"
      ]
     },
     "metadata": {},
     "output_type": "display_data"
    },
    {
     "data": {
      "text/plain": [
       "'D:\\\\Documents\\\\Projects\\\\PPP All Data by State\\\\Indiana'"
      ]
     },
     "metadata": {},
     "output_type": "display_data"
    },
    {
     "data": {
      "text/plain": [
       "'D:\\\\Documents\\\\Projects\\\\PPP All Data by State\\\\Iowa'"
      ]
     },
     "metadata": {},
     "output_type": "display_data"
    },
    {
     "data": {
      "text/plain": [
       "'D:\\\\Documents\\\\Projects\\\\PPP All Data by State\\\\Kansas'"
      ]
     },
     "metadata": {},
     "output_type": "display_data"
    },
    {
     "data": {
      "text/plain": [
       "'D:\\\\Documents\\\\Projects\\\\PPP All Data by State\\\\Kentucky'"
      ]
     },
     "metadata": {},
     "output_type": "display_data"
    },
    {
     "data": {
      "text/plain": [
       "'D:\\\\Documents\\\\Projects\\\\PPP All Data by State\\\\Louisiana'"
      ]
     },
     "metadata": {},
     "output_type": "display_data"
    },
    {
     "data": {
      "text/plain": [
       "'D:\\\\Documents\\\\Projects\\\\PPP All Data by State\\\\Maine'"
      ]
     },
     "metadata": {},
     "output_type": "display_data"
    },
    {
     "data": {
      "text/plain": [
       "'D:\\\\Documents\\\\Projects\\\\PPP All Data by State\\\\Maryland'"
      ]
     },
     "metadata": {},
     "output_type": "display_data"
    },
    {
     "data": {
      "text/plain": [
       "'D:\\\\Documents\\\\Projects\\\\PPP All Data by State\\\\Massachusetts'"
      ]
     },
     "metadata": {},
     "output_type": "display_data"
    },
    {
     "data": {
      "text/plain": [
       "'D:\\\\Documents\\\\Projects\\\\PPP All Data by State\\\\Michigan'"
      ]
     },
     "metadata": {},
     "output_type": "display_data"
    },
    {
     "data": {
      "text/plain": [
       "'D:\\\\Documents\\\\Projects\\\\PPP All Data by State\\\\Minnesota'"
      ]
     },
     "metadata": {},
     "output_type": "display_data"
    },
    {
     "data": {
      "text/plain": [
       "'D:\\\\Documents\\\\Projects\\\\PPP All Data by State\\\\Mississippi'"
      ]
     },
     "metadata": {},
     "output_type": "display_data"
    },
    {
     "data": {
      "text/plain": [
       "'D:\\\\Documents\\\\Projects\\\\PPP All Data by State\\\\Missouri'"
      ]
     },
     "metadata": {},
     "output_type": "display_data"
    },
    {
     "data": {
      "text/plain": [
       "'D:\\\\Documents\\\\Projects\\\\PPP All Data by State\\\\Montana'"
      ]
     },
     "metadata": {},
     "output_type": "display_data"
    },
    {
     "data": {
      "text/plain": [
       "'D:\\\\Documents\\\\Projects\\\\PPP All Data by State\\\\Nebraska'"
      ]
     },
     "metadata": {},
     "output_type": "display_data"
    },
    {
     "data": {
      "text/plain": [
       "'D:\\\\Documents\\\\Projects\\\\PPP All Data by State\\\\Nevada'"
      ]
     },
     "metadata": {},
     "output_type": "display_data"
    },
    {
     "data": {
      "text/plain": [
       "'D:\\\\Documents\\\\Projects\\\\PPP All Data by State\\\\New Hampshire'"
      ]
     },
     "metadata": {},
     "output_type": "display_data"
    },
    {
     "data": {
      "text/plain": [
       "'D:\\\\Documents\\\\Projects\\\\PPP All Data by State\\\\New Jersey'"
      ]
     },
     "metadata": {},
     "output_type": "display_data"
    },
    {
     "data": {
      "text/plain": [
       "'D:\\\\Documents\\\\Projects\\\\PPP All Data by State\\\\New Mexico'"
      ]
     },
     "metadata": {},
     "output_type": "display_data"
    },
    {
     "data": {
      "text/plain": [
       "'D:\\\\Documents\\\\Projects\\\\PPP All Data by State\\\\New York'"
      ]
     },
     "metadata": {},
     "output_type": "display_data"
    },
    {
     "data": {
      "text/plain": [
       "'D:\\\\Documents\\\\Projects\\\\PPP All Data by State\\\\North Carolina'"
      ]
     },
     "metadata": {},
     "output_type": "display_data"
    },
    {
     "data": {
      "text/plain": [
       "'D:\\\\Documents\\\\Projects\\\\PPP All Data by State\\\\North Dakota'"
      ]
     },
     "metadata": {},
     "output_type": "display_data"
    },
    {
     "data": {
      "text/plain": [
       "'D:\\\\Documents\\\\Projects\\\\PPP All Data by State\\\\Northen Mariana Islands'"
      ]
     },
     "metadata": {},
     "output_type": "display_data"
    },
    {
     "data": {
      "text/plain": [
       "'D:\\\\Documents\\\\Projects\\\\PPP All Data by State\\\\Ohio'"
      ]
     },
     "metadata": {},
     "output_type": "display_data"
    },
    {
     "data": {
      "text/plain": [
       "'D:\\\\Documents\\\\Projects\\\\PPP All Data by State\\\\Oklahoma'"
      ]
     },
     "metadata": {},
     "output_type": "display_data"
    },
    {
     "data": {
      "text/plain": [
       "'D:\\\\Documents\\\\Projects\\\\PPP All Data by State\\\\Oregon'"
      ]
     },
     "metadata": {},
     "output_type": "display_data"
    },
    {
     "data": {
      "text/plain": [
       "'D:\\\\Documents\\\\Projects\\\\PPP All Data by State\\\\Other'"
      ]
     },
     "metadata": {},
     "output_type": "display_data"
    },
    {
     "data": {
      "text/plain": [
       "'D:\\\\Documents\\\\Projects\\\\PPP All Data by State\\\\Pennsylvania'"
      ]
     },
     "metadata": {},
     "output_type": "display_data"
    },
    {
     "data": {
      "text/plain": [
       "'D:\\\\Documents\\\\Projects\\\\PPP All Data by State\\\\Puerto Rico'"
      ]
     },
     "metadata": {},
     "output_type": "display_data"
    },
    {
     "data": {
      "text/plain": [
       "'D:\\\\Documents\\\\Projects\\\\PPP All Data by State\\\\Rhode Island'"
      ]
     },
     "metadata": {},
     "output_type": "display_data"
    },
    {
     "data": {
      "text/plain": [
       "'D:\\\\Documents\\\\Projects\\\\PPP All Data by State\\\\South Carolina'"
      ]
     },
     "metadata": {},
     "output_type": "display_data"
    },
    {
     "data": {
      "text/plain": [
       "'D:\\\\Documents\\\\Projects\\\\PPP All Data by State\\\\South Dakota'"
      ]
     },
     "metadata": {},
     "output_type": "display_data"
    },
    {
     "data": {
      "text/plain": [
       "'D:\\\\Documents\\\\Projects\\\\PPP All Data by State\\\\Tennessee'"
      ]
     },
     "metadata": {},
     "output_type": "display_data"
    },
    {
     "data": {
      "text/plain": [
       "'D:\\\\Documents\\\\Projects\\\\PPP All Data by State\\\\Texas'"
      ]
     },
     "metadata": {},
     "output_type": "display_data"
    },
    {
     "data": {
      "text/plain": [
       "'D:\\\\Documents\\\\Projects\\\\PPP All Data by State\\\\Utah'"
      ]
     },
     "metadata": {},
     "output_type": "display_data"
    },
    {
     "data": {
      "text/plain": [
       "'D:\\\\Documents\\\\Projects\\\\PPP All Data by State\\\\Vermont'"
      ]
     },
     "metadata": {},
     "output_type": "display_data"
    },
    {
     "data": {
      "text/plain": [
       "'D:\\\\Documents\\\\Projects\\\\PPP All Data by State\\\\Virgin Islands'"
      ]
     },
     "metadata": {},
     "output_type": "display_data"
    },
    {
     "data": {
      "text/plain": [
       "'D:\\\\Documents\\\\Projects\\\\PPP All Data by State\\\\Virginia'"
      ]
     },
     "metadata": {},
     "output_type": "display_data"
    },
    {
     "data": {
      "text/plain": [
       "'D:\\\\Documents\\\\Projects\\\\PPP All Data by State\\\\Washington'"
      ]
     },
     "metadata": {},
     "output_type": "display_data"
    },
    {
     "data": {
      "text/plain": [
       "'D:\\\\Documents\\\\Projects\\\\PPP All Data by State\\\\West Virginia'"
      ]
     },
     "metadata": {},
     "output_type": "display_data"
    },
    {
     "data": {
      "text/plain": [
       "'D:\\\\Documents\\\\Projects\\\\PPP All Data by State\\\\Wisconsin'"
      ]
     },
     "metadata": {},
     "output_type": "display_data"
    },
    {
     "data": {
      "text/plain": [
       "'D:\\\\Documents\\\\Projects\\\\PPP All Data by State\\\\Wyoming'"
      ]
     },
     "metadata": {},
     "output_type": "display_data"
    },
    {
     "data": {
      "text/plain": [
       "'D:\\\\Documents\\\\Projects\\\\PPP All Data by State\\\\PPP loan data key things to keep in mind FINAL- Sunday.pdf'"
      ]
     },
     "metadata": {},
     "output_type": "display_data"
    },
    {
     "data": {
      "text/plain": [
       "'D:\\\\Documents\\\\Projects\\\\PPP All Data by State\\\\150k plus\\\\.DS_Store'"
      ]
     },
     "metadata": {},
     "output_type": "display_data"
    },
    {
     "data": {
      "text/plain": [
       "'D:\\\\Documents\\\\Projects\\\\PPP All Data by State\\\\150k plus\\\\foia_150k_plus.csv'"
      ]
     },
     "metadata": {},
     "output_type": "display_data"
    },
    {
     "data": {
      "text/plain": [
       "'D:\\\\Documents\\\\Projects\\\\PPP All Data by State\\\\150k plus\\\\PPP loan data key things to keep in mind FINAL- Sunday.pdf'"
      ]
     },
     "metadata": {},
     "output_type": "display_data"
    },
    {
     "data": {
      "text/plain": [
       "'D:\\\\Documents\\\\Projects\\\\PPP All Data by State\\\\Alabama\\\\.DS_Store'"
      ]
     },
     "metadata": {},
     "output_type": "display_data"
    },
    {
     "data": {
      "text/plain": [
       "'D:\\\\Documents\\\\Projects\\\\PPP All Data by State\\\\Alabama\\\\foia_up_to_150k_AL.csv'"
      ]
     },
     "metadata": {},
     "output_type": "display_data"
    },
    {
     "data": {
      "text/plain": [
       "'D:\\\\Documents\\\\Projects\\\\PPP All Data by State\\\\Alabama\\\\PPP loan data key things to keep in mind FINAL- Sunday.pdf'"
      ]
     },
     "metadata": {},
     "output_type": "display_data"
    },
    {
     "data": {
      "text/plain": [
       "'D:\\\\Documents\\\\Projects\\\\PPP All Data by State\\\\Alaska\\\\.DS_Store'"
      ]
     },
     "metadata": {},
     "output_type": "display_data"
    },
    {
     "data": {
      "text/plain": [
       "'D:\\\\Documents\\\\Projects\\\\PPP All Data by State\\\\Alaska\\\\foia_up_to_150k_AK.csv'"
      ]
     },
     "metadata": {},
     "output_type": "display_data"
    },
    {
     "data": {
      "text/plain": [
       "'D:\\\\Documents\\\\Projects\\\\PPP All Data by State\\\\Alaska\\\\PPP loan data key things to keep in mind FINAL- Sunday.pdf'"
      ]
     },
     "metadata": {},
     "output_type": "display_data"
    },
    {
     "data": {
      "text/plain": [
       "'D:\\\\Documents\\\\Projects\\\\PPP All Data by State\\\\American Samoa\\\\.DS_Store'"
      ]
     },
     "metadata": {},
     "output_type": "display_data"
    },
    {
     "data": {
      "text/plain": [
       "'D:\\\\Documents\\\\Projects\\\\PPP All Data by State\\\\American Samoa\\\\foia_up_to_150k_AS.csv'"
      ]
     },
     "metadata": {},
     "output_type": "display_data"
    },
    {
     "data": {
      "text/plain": [
       "'D:\\\\Documents\\\\Projects\\\\PPP All Data by State\\\\American Samoa\\\\PPP loan data key things to keep in mind FINAL- Sunday.pdf'"
      ]
     },
     "metadata": {},
     "output_type": "display_data"
    },
    {
     "data": {
      "text/plain": [
       "'D:\\\\Documents\\\\Projects\\\\PPP All Data by State\\\\Arizona\\\\.DS_Store'"
      ]
     },
     "metadata": {},
     "output_type": "display_data"
    },
    {
     "data": {
      "text/plain": [
       "'D:\\\\Documents\\\\Projects\\\\PPP All Data by State\\\\Arizona\\\\foia_up_to_150k_AZ.csv'"
      ]
     },
     "metadata": {},
     "output_type": "display_data"
    },
    {
     "data": {
      "text/plain": [
       "'D:\\\\Documents\\\\Projects\\\\PPP All Data by State\\\\Arizona\\\\PPP loan data key things to keep in mind FINAL- Sunday.pdf'"
      ]
     },
     "metadata": {},
     "output_type": "display_data"
    },
    {
     "data": {
      "text/plain": [
       "'D:\\\\Documents\\\\Projects\\\\PPP All Data by State\\\\Arkansas\\\\.DS_Store'"
      ]
     },
     "metadata": {},
     "output_type": "display_data"
    },
    {
     "data": {
      "text/plain": [
       "'D:\\\\Documents\\\\Projects\\\\PPP All Data by State\\\\Arkansas\\\\foia_up_to_150k_AR.csv'"
      ]
     },
     "metadata": {},
     "output_type": "display_data"
    },
    {
     "data": {
      "text/plain": [
       "'D:\\\\Documents\\\\Projects\\\\PPP All Data by State\\\\Arkansas\\\\PPP loan data key things to keep in mind FINAL- Sunday.pdf'"
      ]
     },
     "metadata": {},
     "output_type": "display_data"
    },
    {
     "data": {
      "text/plain": [
       "'D:\\\\Documents\\\\Projects\\\\PPP All Data by State\\\\California\\\\.DS_Store'"
      ]
     },
     "metadata": {},
     "output_type": "display_data"
    },
    {
     "data": {
      "text/plain": [
       "'D:\\\\Documents\\\\Projects\\\\PPP All Data by State\\\\California\\\\foia_up_to_150k_CA.csv'"
      ]
     },
     "metadata": {},
     "output_type": "display_data"
    },
    {
     "data": {
      "text/plain": [
       "'D:\\\\Documents\\\\Projects\\\\PPP All Data by State\\\\California\\\\PPP loan data key things to keep in mind FINAL- Sunday.pdf'"
      ]
     },
     "metadata": {},
     "output_type": "display_data"
    },
    {
     "data": {
      "text/plain": [
       "'D:\\\\Documents\\\\Projects\\\\PPP All Data by State\\\\Colorado\\\\.DS_Store'"
      ]
     },
     "metadata": {},
     "output_type": "display_data"
    },
    {
     "data": {
      "text/plain": [
       "'D:\\\\Documents\\\\Projects\\\\PPP All Data by State\\\\Colorado\\\\foia_up_to_150k_CO.csv'"
      ]
     },
     "metadata": {},
     "output_type": "display_data"
    },
    {
     "data": {
      "text/plain": [
       "'D:\\\\Documents\\\\Projects\\\\PPP All Data by State\\\\Colorado\\\\PPP loan data key things to keep in mind FINAL- Sunday.pdf'"
      ]
     },
     "metadata": {},
     "output_type": "display_data"
    },
    {
     "data": {
      "text/plain": [
       "'D:\\\\Documents\\\\Projects\\\\PPP All Data by State\\\\Connecticut\\\\.DS_Store'"
      ]
     },
     "metadata": {},
     "output_type": "display_data"
    },
    {
     "data": {
      "text/plain": [
       "'D:\\\\Documents\\\\Projects\\\\PPP All Data by State\\\\Connecticut\\\\foia_up_to_150k_CT.csv'"
      ]
     },
     "metadata": {},
     "output_type": "display_data"
    },
    {
     "data": {
      "text/plain": [
       "'D:\\\\Documents\\\\Projects\\\\PPP All Data by State\\\\Connecticut\\\\PPP loan data key things to keep in mind FINAL- Sunday.pdf'"
      ]
     },
     "metadata": {},
     "output_type": "display_data"
    },
    {
     "data": {
      "text/plain": [
       "'D:\\\\Documents\\\\Projects\\\\PPP All Data by State\\\\Delaware\\\\.DS_Store'"
      ]
     },
     "metadata": {},
     "output_type": "display_data"
    },
    {
     "data": {
      "text/plain": [
       "'D:\\\\Documents\\\\Projects\\\\PPP All Data by State\\\\Delaware\\\\foia_up_to_150k_DE.csv'"
      ]
     },
     "metadata": {},
     "output_type": "display_data"
    },
    {
     "data": {
      "text/plain": [
       "'D:\\\\Documents\\\\Projects\\\\PPP All Data by State\\\\Delaware\\\\PPP loan data key things to keep in mind FINAL- Sunday.pdf'"
      ]
     },
     "metadata": {},
     "output_type": "display_data"
    },
    {
     "data": {
      "text/plain": [
       "'D:\\\\Documents\\\\Projects\\\\PPP All Data by State\\\\District of Columbia\\\\.DS_Store'"
      ]
     },
     "metadata": {},
     "output_type": "display_data"
    },
    {
     "data": {
      "text/plain": [
       "'D:\\\\Documents\\\\Projects\\\\PPP All Data by State\\\\District of Columbia\\\\foia_up_to_150k_DC.csv'"
      ]
     },
     "metadata": {},
     "output_type": "display_data"
    },
    {
     "data": {
      "text/plain": [
       "'D:\\\\Documents\\\\Projects\\\\PPP All Data by State\\\\District of Columbia\\\\PPP loan data key things to keep in mind FINAL- Sunday.pdf'"
      ]
     },
     "metadata": {},
     "output_type": "display_data"
    },
    {
     "data": {
      "text/plain": [
       "'D:\\\\Documents\\\\Projects\\\\PPP All Data by State\\\\Florida\\\\.DS_Store'"
      ]
     },
     "metadata": {},
     "output_type": "display_data"
    },
    {
     "data": {
      "text/plain": [
       "'D:\\\\Documents\\\\Projects\\\\PPP All Data by State\\\\Florida\\\\foia_up_to_150k_FL.csv'"
      ]
     },
     "metadata": {},
     "output_type": "display_data"
    },
    {
     "data": {
      "text/plain": [
       "'D:\\\\Documents\\\\Projects\\\\PPP All Data by State\\\\Florida\\\\PPP loan data key things to keep in mind FINAL- Sunday.pdf'"
      ]
     },
     "metadata": {},
     "output_type": "display_data"
    },
    {
     "data": {
      "text/plain": [
       "'D:\\\\Documents\\\\Projects\\\\PPP All Data by State\\\\Georgia\\\\.DS_Store'"
      ]
     },
     "metadata": {},
     "output_type": "display_data"
    },
    {
     "data": {
      "text/plain": [
       "'D:\\\\Documents\\\\Projects\\\\PPP All Data by State\\\\Georgia\\\\foia_up_to_150k_GA.csv'"
      ]
     },
     "metadata": {},
     "output_type": "display_data"
    },
    {
     "data": {
      "text/plain": [
       "'D:\\\\Documents\\\\Projects\\\\PPP All Data by State\\\\Georgia\\\\PPP loan data key things to keep in mind FINAL- Sunday.pdf'"
      ]
     },
     "metadata": {},
     "output_type": "display_data"
    },
    {
     "data": {
      "text/plain": [
       "'D:\\\\Documents\\\\Projects\\\\PPP All Data by State\\\\Guam\\\\.DS_Store'"
      ]
     },
     "metadata": {},
     "output_type": "display_data"
    },
    {
     "data": {
      "text/plain": [
       "'D:\\\\Documents\\\\Projects\\\\PPP All Data by State\\\\Guam\\\\foia_up_to_150k_GU.csv'"
      ]
     },
     "metadata": {},
     "output_type": "display_data"
    },
    {
     "data": {
      "text/plain": [
       "'D:\\\\Documents\\\\Projects\\\\PPP All Data by State\\\\Guam\\\\PPP loan data key things to keep in mind FINAL- Sunday.pdf'"
      ]
     },
     "metadata": {},
     "output_type": "display_data"
    },
    {
     "data": {
      "text/plain": [
       "'D:\\\\Documents\\\\Projects\\\\PPP All Data by State\\\\Hawaii\\\\.DS_Store'"
      ]
     },
     "metadata": {},
     "output_type": "display_data"
    },
    {
     "data": {
      "text/plain": [
       "'D:\\\\Documents\\\\Projects\\\\PPP All Data by State\\\\Hawaii\\\\foia_up_to_150k_HI.csv'"
      ]
     },
     "metadata": {},
     "output_type": "display_data"
    },
    {
     "data": {
      "text/plain": [
       "'D:\\\\Documents\\\\Projects\\\\PPP All Data by State\\\\Hawaii\\\\PPP loan data key things to keep in mind FINAL- Sunday.pdf'"
      ]
     },
     "metadata": {},
     "output_type": "display_data"
    },
    {
     "data": {
      "text/plain": [
       "'D:\\\\Documents\\\\Projects\\\\PPP All Data by State\\\\Idaho\\\\.DS_Store'"
      ]
     },
     "metadata": {},
     "output_type": "display_data"
    },
    {
     "data": {
      "text/plain": [
       "'D:\\\\Documents\\\\Projects\\\\PPP All Data by State\\\\Idaho\\\\foia_up_to_150k_ID.csv'"
      ]
     },
     "metadata": {},
     "output_type": "display_data"
    },
    {
     "data": {
      "text/plain": [
       "'D:\\\\Documents\\\\Projects\\\\PPP All Data by State\\\\Idaho\\\\PPP loan data key things to keep in mind FINAL- Sunday.pdf'"
      ]
     },
     "metadata": {},
     "output_type": "display_data"
    },
    {
     "data": {
      "text/plain": [
       "'D:\\\\Documents\\\\Projects\\\\PPP All Data by State\\\\Illinois\\\\.DS_Store'"
      ]
     },
     "metadata": {},
     "output_type": "display_data"
    },
    {
     "data": {
      "text/plain": [
       "'D:\\\\Documents\\\\Projects\\\\PPP All Data by State\\\\Illinois\\\\foia_up_to_150k_IL.csv'"
      ]
     },
     "metadata": {},
     "output_type": "display_data"
    },
    {
     "data": {
      "text/plain": [
       "'D:\\\\Documents\\\\Projects\\\\PPP All Data by State\\\\Illinois\\\\PPP loan data key things to keep in mind FINAL- Sunday.pdf'"
      ]
     },
     "metadata": {},
     "output_type": "display_data"
    },
    {
     "data": {
      "text/plain": [
       "'D:\\\\Documents\\\\Projects\\\\PPP All Data by State\\\\Indiana\\\\.DS_Store'"
      ]
     },
     "metadata": {},
     "output_type": "display_data"
    },
    {
     "data": {
      "text/plain": [
       "'D:\\\\Documents\\\\Projects\\\\PPP All Data by State\\\\Indiana\\\\foia_up_to_150k_IN.csv'"
      ]
     },
     "metadata": {},
     "output_type": "display_data"
    },
    {
     "data": {
      "text/plain": [
       "'D:\\\\Documents\\\\Projects\\\\PPP All Data by State\\\\Indiana\\\\PPP loan data key things to keep in mind FINAL- Sunday.pdf'"
      ]
     },
     "metadata": {},
     "output_type": "display_data"
    },
    {
     "data": {
      "text/plain": [
       "'D:\\\\Documents\\\\Projects\\\\PPP All Data by State\\\\Iowa\\\\.DS_Store'"
      ]
     },
     "metadata": {},
     "output_type": "display_data"
    },
    {
     "data": {
      "text/plain": [
       "'D:\\\\Documents\\\\Projects\\\\PPP All Data by State\\\\Iowa\\\\foia_up_to_150k_IA.csv'"
      ]
     },
     "metadata": {},
     "output_type": "display_data"
    },
    {
     "data": {
      "text/plain": [
       "'D:\\\\Documents\\\\Projects\\\\PPP All Data by State\\\\Iowa\\\\PPP loan data key things to keep in mind FINAL- Sunday.pdf'"
      ]
     },
     "metadata": {},
     "output_type": "display_data"
    },
    {
     "data": {
      "text/plain": [
       "'D:\\\\Documents\\\\Projects\\\\PPP All Data by State\\\\Kansas\\\\.DS_Store'"
      ]
     },
     "metadata": {},
     "output_type": "display_data"
    },
    {
     "data": {
      "text/plain": [
       "'D:\\\\Documents\\\\Projects\\\\PPP All Data by State\\\\Kansas\\\\foia_up_to_150k_KS.csv'"
      ]
     },
     "metadata": {},
     "output_type": "display_data"
    },
    {
     "data": {
      "text/plain": [
       "'D:\\\\Documents\\\\Projects\\\\PPP All Data by State\\\\Kansas\\\\PPP loan data key things to keep in mind FINAL- Sunday.pdf'"
      ]
     },
     "metadata": {},
     "output_type": "display_data"
    },
    {
     "data": {
      "text/plain": [
       "'D:\\\\Documents\\\\Projects\\\\PPP All Data by State\\\\Kentucky\\\\.DS_Store'"
      ]
     },
     "metadata": {},
     "output_type": "display_data"
    },
    {
     "data": {
      "text/plain": [
       "'D:\\\\Documents\\\\Projects\\\\PPP All Data by State\\\\Kentucky\\\\foia_up_to_150k_KY.csv'"
      ]
     },
     "metadata": {},
     "output_type": "display_data"
    },
    {
     "data": {
      "text/plain": [
       "'D:\\\\Documents\\\\Projects\\\\PPP All Data by State\\\\Kentucky\\\\PPP loan data key things to keep in mind FINAL- Sunday.pdf'"
      ]
     },
     "metadata": {},
     "output_type": "display_data"
    },
    {
     "data": {
      "text/plain": [
       "'D:\\\\Documents\\\\Projects\\\\PPP All Data by State\\\\Louisiana\\\\.DS_Store'"
      ]
     },
     "metadata": {},
     "output_type": "display_data"
    },
    {
     "data": {
      "text/plain": [
       "'D:\\\\Documents\\\\Projects\\\\PPP All Data by State\\\\Louisiana\\\\foia_up_to_150k_LA.csv'"
      ]
     },
     "metadata": {},
     "output_type": "display_data"
    },
    {
     "data": {
      "text/plain": [
       "'D:\\\\Documents\\\\Projects\\\\PPP All Data by State\\\\Louisiana\\\\PPP loan data key things to keep in mind FINAL- Sunday.pdf'"
      ]
     },
     "metadata": {},
     "output_type": "display_data"
    },
    {
     "data": {
      "text/plain": [
       "'D:\\\\Documents\\\\Projects\\\\PPP All Data by State\\\\Maine\\\\.DS_Store'"
      ]
     },
     "metadata": {},
     "output_type": "display_data"
    },
    {
     "data": {
      "text/plain": [
       "'D:\\\\Documents\\\\Projects\\\\PPP All Data by State\\\\Maine\\\\foia_up_to_150k_ME.csv'"
      ]
     },
     "metadata": {},
     "output_type": "display_data"
    },
    {
     "data": {
      "text/plain": [
       "'D:\\\\Documents\\\\Projects\\\\PPP All Data by State\\\\Maine\\\\PPP loan data key things to keep in mind FINAL- Sunday.pdf'"
      ]
     },
     "metadata": {},
     "output_type": "display_data"
    },
    {
     "data": {
      "text/plain": [
       "'D:\\\\Documents\\\\Projects\\\\PPP All Data by State\\\\Maryland\\\\.DS_Store'"
      ]
     },
     "metadata": {},
     "output_type": "display_data"
    },
    {
     "data": {
      "text/plain": [
       "'D:\\\\Documents\\\\Projects\\\\PPP All Data by State\\\\Maryland\\\\foia_up_to_150k_MD.csv'"
      ]
     },
     "metadata": {},
     "output_type": "display_data"
    },
    {
     "data": {
      "text/plain": [
       "'D:\\\\Documents\\\\Projects\\\\PPP All Data by State\\\\Maryland\\\\PPP loan data key things to keep in mind FINAL- Sunday.pdf'"
      ]
     },
     "metadata": {},
     "output_type": "display_data"
    },
    {
     "data": {
      "text/plain": [
       "'D:\\\\Documents\\\\Projects\\\\PPP All Data by State\\\\Massachusetts\\\\.DS_Store'"
      ]
     },
     "metadata": {},
     "output_type": "display_data"
    },
    {
     "data": {
      "text/plain": [
       "'D:\\\\Documents\\\\Projects\\\\PPP All Data by State\\\\Massachusetts\\\\foia_up_to_150k_MA.csv'"
      ]
     },
     "metadata": {},
     "output_type": "display_data"
    },
    {
     "data": {
      "text/plain": [
       "'D:\\\\Documents\\\\Projects\\\\PPP All Data by State\\\\Massachusetts\\\\PPP loan data key things to keep in mind FINAL- Sunday.pdf'"
      ]
     },
     "metadata": {},
     "output_type": "display_data"
    },
    {
     "data": {
      "text/plain": [
       "'D:\\\\Documents\\\\Projects\\\\PPP All Data by State\\\\Michigan\\\\.DS_Store'"
      ]
     },
     "metadata": {},
     "output_type": "display_data"
    },
    {
     "data": {
      "text/plain": [
       "'D:\\\\Documents\\\\Projects\\\\PPP All Data by State\\\\Michigan\\\\foia_up_to_150k_MI.csv'"
      ]
     },
     "metadata": {},
     "output_type": "display_data"
    },
    {
     "data": {
      "text/plain": [
       "'D:\\\\Documents\\\\Projects\\\\PPP All Data by State\\\\Michigan\\\\PPP loan data key things to keep in mind FINAL- Sunday.pdf'"
      ]
     },
     "metadata": {},
     "output_type": "display_data"
    },
    {
     "data": {
      "text/plain": [
       "'D:\\\\Documents\\\\Projects\\\\PPP All Data by State\\\\Minnesota\\\\.DS_Store'"
      ]
     },
     "metadata": {},
     "output_type": "display_data"
    },
    {
     "data": {
      "text/plain": [
       "'D:\\\\Documents\\\\Projects\\\\PPP All Data by State\\\\Minnesota\\\\foia_up_to_150k_MN.csv'"
      ]
     },
     "metadata": {},
     "output_type": "display_data"
    },
    {
     "data": {
      "text/plain": [
       "'D:\\\\Documents\\\\Projects\\\\PPP All Data by State\\\\Minnesota\\\\PPP loan data key things to keep in mind FINAL- Sunday.pdf'"
      ]
     },
     "metadata": {},
     "output_type": "display_data"
    },
    {
     "data": {
      "text/plain": [
       "'D:\\\\Documents\\\\Projects\\\\PPP All Data by State\\\\Mississippi\\\\.DS_Store'"
      ]
     },
     "metadata": {},
     "output_type": "display_data"
    },
    {
     "data": {
      "text/plain": [
       "'D:\\\\Documents\\\\Projects\\\\PPP All Data by State\\\\Mississippi\\\\foia_up_to_150k_MS.csv'"
      ]
     },
     "metadata": {},
     "output_type": "display_data"
    },
    {
     "data": {
      "text/plain": [
       "'D:\\\\Documents\\\\Projects\\\\PPP All Data by State\\\\Mississippi\\\\PPP loan data key things to keep in mind FINAL- Sunday.pdf'"
      ]
     },
     "metadata": {},
     "output_type": "display_data"
    },
    {
     "data": {
      "text/plain": [
       "'D:\\\\Documents\\\\Projects\\\\PPP All Data by State\\\\Missouri\\\\.DS_Store'"
      ]
     },
     "metadata": {},
     "output_type": "display_data"
    },
    {
     "data": {
      "text/plain": [
       "'D:\\\\Documents\\\\Projects\\\\PPP All Data by State\\\\Missouri\\\\foia_up_to_150k_MO.csv'"
      ]
     },
     "metadata": {},
     "output_type": "display_data"
    },
    {
     "data": {
      "text/plain": [
       "'D:\\\\Documents\\\\Projects\\\\PPP All Data by State\\\\Missouri\\\\PPP loan data key things to keep in mind FINAL- Sunday.pdf'"
      ]
     },
     "metadata": {},
     "output_type": "display_data"
    },
    {
     "data": {
      "text/plain": [
       "'D:\\\\Documents\\\\Projects\\\\PPP All Data by State\\\\Montana\\\\.DS_Store'"
      ]
     },
     "metadata": {},
     "output_type": "display_data"
    },
    {
     "data": {
      "text/plain": [
       "'D:\\\\Documents\\\\Projects\\\\PPP All Data by State\\\\Montana\\\\foia_up_to_150k_MT.csv'"
      ]
     },
     "metadata": {},
     "output_type": "display_data"
    },
    {
     "data": {
      "text/plain": [
       "'D:\\\\Documents\\\\Projects\\\\PPP All Data by State\\\\Montana\\\\PPP loan data key things to keep in mind FINAL- Sunday.pdf'"
      ]
     },
     "metadata": {},
     "output_type": "display_data"
    },
    {
     "data": {
      "text/plain": [
       "'D:\\\\Documents\\\\Projects\\\\PPP All Data by State\\\\Nebraska\\\\.DS_Store'"
      ]
     },
     "metadata": {},
     "output_type": "display_data"
    },
    {
     "data": {
      "text/plain": [
       "'D:\\\\Documents\\\\Projects\\\\PPP All Data by State\\\\Nebraska\\\\foia_up_to_150k_NE.csv'"
      ]
     },
     "metadata": {},
     "output_type": "display_data"
    },
    {
     "data": {
      "text/plain": [
       "'D:\\\\Documents\\\\Projects\\\\PPP All Data by State\\\\Nebraska\\\\PPP loan data key things to keep in mind FINAL- Sunday.pdf'"
      ]
     },
     "metadata": {},
     "output_type": "display_data"
    },
    {
     "data": {
      "text/plain": [
       "'D:\\\\Documents\\\\Projects\\\\PPP All Data by State\\\\Nevada\\\\.DS_Store'"
      ]
     },
     "metadata": {},
     "output_type": "display_data"
    },
    {
     "data": {
      "text/plain": [
       "'D:\\\\Documents\\\\Projects\\\\PPP All Data by State\\\\Nevada\\\\foia_up_to_150k_NV.csv'"
      ]
     },
     "metadata": {},
     "output_type": "display_data"
    },
    {
     "data": {
      "text/plain": [
       "'D:\\\\Documents\\\\Projects\\\\PPP All Data by State\\\\Nevada\\\\PPP loan data key things to keep in mind FINAL- Sunday.pdf'"
      ]
     },
     "metadata": {},
     "output_type": "display_data"
    },
    {
     "data": {
      "text/plain": [
       "'D:\\\\Documents\\\\Projects\\\\PPP All Data by State\\\\New Hampshire\\\\.DS_Store'"
      ]
     },
     "metadata": {},
     "output_type": "display_data"
    },
    {
     "data": {
      "text/plain": [
       "'D:\\\\Documents\\\\Projects\\\\PPP All Data by State\\\\New Hampshire\\\\foia_up_to_150k_NH.csv'"
      ]
     },
     "metadata": {},
     "output_type": "display_data"
    },
    {
     "data": {
      "text/plain": [
       "'D:\\\\Documents\\\\Projects\\\\PPP All Data by State\\\\New Hampshire\\\\PPP loan data key things to keep in mind FINAL- Sunday.pdf'"
      ]
     },
     "metadata": {},
     "output_type": "display_data"
    },
    {
     "data": {
      "text/plain": [
       "'D:\\\\Documents\\\\Projects\\\\PPP All Data by State\\\\New Jersey\\\\.DS_Store'"
      ]
     },
     "metadata": {},
     "output_type": "display_data"
    },
    {
     "data": {
      "text/plain": [
       "'D:\\\\Documents\\\\Projects\\\\PPP All Data by State\\\\New Jersey\\\\foia_up_to_150k_NJ.csv'"
      ]
     },
     "metadata": {},
     "output_type": "display_data"
    },
    {
     "data": {
      "text/plain": [
       "'D:\\\\Documents\\\\Projects\\\\PPP All Data by State\\\\New Jersey\\\\PPP loan data key things to keep in mind FINAL- Sunday.pdf'"
      ]
     },
     "metadata": {},
     "output_type": "display_data"
    },
    {
     "data": {
      "text/plain": [
       "'D:\\\\Documents\\\\Projects\\\\PPP All Data by State\\\\New Mexico\\\\.DS_Store'"
      ]
     },
     "metadata": {},
     "output_type": "display_data"
    },
    {
     "data": {
      "text/plain": [
       "'D:\\\\Documents\\\\Projects\\\\PPP All Data by State\\\\New Mexico\\\\foia_up_to_150k_NM.csv'"
      ]
     },
     "metadata": {},
     "output_type": "display_data"
    },
    {
     "data": {
      "text/plain": [
       "'D:\\\\Documents\\\\Projects\\\\PPP All Data by State\\\\New Mexico\\\\PPP loan data key things to keep in mind FINAL- Sunday.pdf'"
      ]
     },
     "metadata": {},
     "output_type": "display_data"
    },
    {
     "data": {
      "text/plain": [
       "'D:\\\\Documents\\\\Projects\\\\PPP All Data by State\\\\New York\\\\.DS_Store'"
      ]
     },
     "metadata": {},
     "output_type": "display_data"
    },
    {
     "data": {
      "text/plain": [
       "'D:\\\\Documents\\\\Projects\\\\PPP All Data by State\\\\New York\\\\foia_up_to_150k_NY.csv'"
      ]
     },
     "metadata": {},
     "output_type": "display_data"
    },
    {
     "data": {
      "text/plain": [
       "'D:\\\\Documents\\\\Projects\\\\PPP All Data by State\\\\New York\\\\PPP loan data key things to keep in mind FINAL- Sunday.pdf'"
      ]
     },
     "metadata": {},
     "output_type": "display_data"
    },
    {
     "data": {
      "text/plain": [
       "'D:\\\\Documents\\\\Projects\\\\PPP All Data by State\\\\North Carolina\\\\.DS_Store'"
      ]
     },
     "metadata": {},
     "output_type": "display_data"
    },
    {
     "data": {
      "text/plain": [
       "'D:\\\\Documents\\\\Projects\\\\PPP All Data by State\\\\North Carolina\\\\foia_up_to_150k_NC.csv'"
      ]
     },
     "metadata": {},
     "output_type": "display_data"
    },
    {
     "data": {
      "text/plain": [
       "'D:\\\\Documents\\\\Projects\\\\PPP All Data by State\\\\North Carolina\\\\PPP loan data key things to keep in mind FINAL- Sunday.pdf'"
      ]
     },
     "metadata": {},
     "output_type": "display_data"
    },
    {
     "data": {
      "text/plain": [
       "'D:\\\\Documents\\\\Projects\\\\PPP All Data by State\\\\North Dakota\\\\.DS_Store'"
      ]
     },
     "metadata": {},
     "output_type": "display_data"
    },
    {
     "data": {
      "text/plain": [
       "'D:\\\\Documents\\\\Projects\\\\PPP All Data by State\\\\North Dakota\\\\foia_up_to_150k_ND.csv'"
      ]
     },
     "metadata": {},
     "output_type": "display_data"
    },
    {
     "data": {
      "text/plain": [
       "'D:\\\\Documents\\\\Projects\\\\PPP All Data by State\\\\North Dakota\\\\PPP loan data key things to keep in mind FINAL- Sunday.pdf'"
      ]
     },
     "metadata": {},
     "output_type": "display_data"
    },
    {
     "data": {
      "text/plain": [
       "'D:\\\\Documents\\\\Projects\\\\PPP All Data by State\\\\Northen Mariana Islands\\\\.DS_Store'"
      ]
     },
     "metadata": {},
     "output_type": "display_data"
    },
    {
     "data": {
      "text/plain": [
       "'D:\\\\Documents\\\\Projects\\\\PPP All Data by State\\\\Northen Mariana Islands\\\\foia_up_to_150k_MP.csv'"
      ]
     },
     "metadata": {},
     "output_type": "display_data"
    },
    {
     "data": {
      "text/plain": [
       "'D:\\\\Documents\\\\Projects\\\\PPP All Data by State\\\\Northen Mariana Islands\\\\PPP loan data key things to keep in mind FINAL- Sunday.pdf'"
      ]
     },
     "metadata": {},
     "output_type": "display_data"
    },
    {
     "data": {
      "text/plain": [
       "'D:\\\\Documents\\\\Projects\\\\PPP All Data by State\\\\Ohio\\\\.DS_Store'"
      ]
     },
     "metadata": {},
     "output_type": "display_data"
    },
    {
     "data": {
      "text/plain": [
       "'D:\\\\Documents\\\\Projects\\\\PPP All Data by State\\\\Ohio\\\\foia_up_to_150k_OH.csv'"
      ]
     },
     "metadata": {},
     "output_type": "display_data"
    },
    {
     "data": {
      "text/plain": [
       "'D:\\\\Documents\\\\Projects\\\\PPP All Data by State\\\\Ohio\\\\PPP loan data key things to keep in mind FINAL- Sunday.pdf'"
      ]
     },
     "metadata": {},
     "output_type": "display_data"
    },
    {
     "data": {
      "text/plain": [
       "'D:\\\\Documents\\\\Projects\\\\PPP All Data by State\\\\Oklahoma\\\\.DS_Store'"
      ]
     },
     "metadata": {},
     "output_type": "display_data"
    },
    {
     "data": {
      "text/plain": [
       "'D:\\\\Documents\\\\Projects\\\\PPP All Data by State\\\\Oklahoma\\\\foia_up_to_150k_OK.csv'"
      ]
     },
     "metadata": {},
     "output_type": "display_data"
    },
    {
     "data": {
      "text/plain": [
       "'D:\\\\Documents\\\\Projects\\\\PPP All Data by State\\\\Oklahoma\\\\PPP loan data key things to keep in mind FINAL- Sunday.pdf'"
      ]
     },
     "metadata": {},
     "output_type": "display_data"
    },
    {
     "data": {
      "text/plain": [
       "'D:\\\\Documents\\\\Projects\\\\PPP All Data by State\\\\Oregon\\\\.DS_Store'"
      ]
     },
     "metadata": {},
     "output_type": "display_data"
    },
    {
     "data": {
      "text/plain": [
       "'D:\\\\Documents\\\\Projects\\\\PPP All Data by State\\\\Oregon\\\\foia_up_to_150k_OR.csv'"
      ]
     },
     "metadata": {},
     "output_type": "display_data"
    },
    {
     "data": {
      "text/plain": [
       "'D:\\\\Documents\\\\Projects\\\\PPP All Data by State\\\\Oregon\\\\PPP loan data key things to keep in mind FINAL- Sunday.pdf'"
      ]
     },
     "metadata": {},
     "output_type": "display_data"
    },
    {
     "data": {
      "text/plain": [
       "'D:\\\\Documents\\\\Projects\\\\PPP All Data by State\\\\Other\\\\.DS_Store'"
      ]
     },
     "metadata": {},
     "output_type": "display_data"
    },
    {
     "data": {
      "text/plain": [
       "'D:\\\\Documents\\\\Projects\\\\PPP All Data by State\\\\Other\\\\foia_up_to_150k_other.csv'"
      ]
     },
     "metadata": {},
     "output_type": "display_data"
    },
    {
     "data": {
      "text/plain": [
       "'D:\\\\Documents\\\\Projects\\\\PPP All Data by State\\\\Other\\\\PPP loan data key things to keep in mind FINAL- Sunday.pdf'"
      ]
     },
     "metadata": {},
     "output_type": "display_data"
    },
    {
     "data": {
      "text/plain": [
       "'D:\\\\Documents\\\\Projects\\\\PPP All Data by State\\\\Pennsylvania\\\\.DS_Store'"
      ]
     },
     "metadata": {},
     "output_type": "display_data"
    },
    {
     "data": {
      "text/plain": [
       "'D:\\\\Documents\\\\Projects\\\\PPP All Data by State\\\\Pennsylvania\\\\foia_up_to_150k_PA.csv'"
      ]
     },
     "metadata": {},
     "output_type": "display_data"
    },
    {
     "data": {
      "text/plain": [
       "'D:\\\\Documents\\\\Projects\\\\PPP All Data by State\\\\Pennsylvania\\\\PPP loan data key things to keep in mind FINAL- Sunday.pdf'"
      ]
     },
     "metadata": {},
     "output_type": "display_data"
    },
    {
     "data": {
      "text/plain": [
       "'D:\\\\Documents\\\\Projects\\\\PPP All Data by State\\\\Puerto Rico\\\\.DS_Store'"
      ]
     },
     "metadata": {},
     "output_type": "display_data"
    },
    {
     "data": {
      "text/plain": [
       "'D:\\\\Documents\\\\Projects\\\\PPP All Data by State\\\\Puerto Rico\\\\foia_up_to_150k_PR.csv'"
      ]
     },
     "metadata": {},
     "output_type": "display_data"
    },
    {
     "data": {
      "text/plain": [
       "'D:\\\\Documents\\\\Projects\\\\PPP All Data by State\\\\Puerto Rico\\\\PPP loan data key things to keep in mind FINAL- Sunday.pdf'"
      ]
     },
     "metadata": {},
     "output_type": "display_data"
    },
    {
     "data": {
      "text/plain": [
       "'D:\\\\Documents\\\\Projects\\\\PPP All Data by State\\\\Rhode Island\\\\.DS_Store'"
      ]
     },
     "metadata": {},
     "output_type": "display_data"
    },
    {
     "data": {
      "text/plain": [
       "'D:\\\\Documents\\\\Projects\\\\PPP All Data by State\\\\Rhode Island\\\\foia_up_to_150k_RI.csv'"
      ]
     },
     "metadata": {},
     "output_type": "display_data"
    },
    {
     "data": {
      "text/plain": [
       "'D:\\\\Documents\\\\Projects\\\\PPP All Data by State\\\\Rhode Island\\\\PPP loan data key things to keep in mind FINAL- Sunday.pdf'"
      ]
     },
     "metadata": {},
     "output_type": "display_data"
    },
    {
     "data": {
      "text/plain": [
       "'D:\\\\Documents\\\\Projects\\\\PPP All Data by State\\\\South Carolina\\\\.DS_Store'"
      ]
     },
     "metadata": {},
     "output_type": "display_data"
    },
    {
     "data": {
      "text/plain": [
       "'D:\\\\Documents\\\\Projects\\\\PPP All Data by State\\\\South Carolina\\\\foia_up_to_150k_SC.csv'"
      ]
     },
     "metadata": {},
     "output_type": "display_data"
    },
    {
     "data": {
      "text/plain": [
       "'D:\\\\Documents\\\\Projects\\\\PPP All Data by State\\\\South Carolina\\\\PPP loan data key things to keep in mind FINAL- Sunday.pdf'"
      ]
     },
     "metadata": {},
     "output_type": "display_data"
    },
    {
     "data": {
      "text/plain": [
       "'D:\\\\Documents\\\\Projects\\\\PPP All Data by State\\\\South Dakota\\\\.DS_Store'"
      ]
     },
     "metadata": {},
     "output_type": "display_data"
    },
    {
     "data": {
      "text/plain": [
       "'D:\\\\Documents\\\\Projects\\\\PPP All Data by State\\\\South Dakota\\\\foia_up_to_150k_SD.csv'"
      ]
     },
     "metadata": {},
     "output_type": "display_data"
    },
    {
     "data": {
      "text/plain": [
       "'D:\\\\Documents\\\\Projects\\\\PPP All Data by State\\\\South Dakota\\\\PPP loan data key things to keep in mind FINAL- Sunday.pdf'"
      ]
     },
     "metadata": {},
     "output_type": "display_data"
    },
    {
     "data": {
      "text/plain": [
       "'D:\\\\Documents\\\\Projects\\\\PPP All Data by State\\\\Tennessee\\\\.DS_Store'"
      ]
     },
     "metadata": {},
     "output_type": "display_data"
    },
    {
     "data": {
      "text/plain": [
       "'D:\\\\Documents\\\\Projects\\\\PPP All Data by State\\\\Tennessee\\\\foia_up_to_150k_TN.csv'"
      ]
     },
     "metadata": {},
     "output_type": "display_data"
    },
    {
     "data": {
      "text/plain": [
       "'D:\\\\Documents\\\\Projects\\\\PPP All Data by State\\\\Tennessee\\\\PPP loan data key things to keep in mind FINAL- Sunday.pdf'"
      ]
     },
     "metadata": {},
     "output_type": "display_data"
    },
    {
     "data": {
      "text/plain": [
       "'D:\\\\Documents\\\\Projects\\\\PPP All Data by State\\\\Texas\\\\.DS_Store'"
      ]
     },
     "metadata": {},
     "output_type": "display_data"
    },
    {
     "data": {
      "text/plain": [
       "'D:\\\\Documents\\\\Projects\\\\PPP All Data by State\\\\Texas\\\\foia_up_to_150k_TX.csv'"
      ]
     },
     "metadata": {},
     "output_type": "display_data"
    },
    {
     "data": {
      "text/plain": [
       "'D:\\\\Documents\\\\Projects\\\\PPP All Data by State\\\\Texas\\\\PPP loan data key things to keep in mind FINAL- Sunday.pdf'"
      ]
     },
     "metadata": {},
     "output_type": "display_data"
    },
    {
     "data": {
      "text/plain": [
       "'D:\\\\Documents\\\\Projects\\\\PPP All Data by State\\\\Utah\\\\.DS_Store'"
      ]
     },
     "metadata": {},
     "output_type": "display_data"
    },
    {
     "data": {
      "text/plain": [
       "'D:\\\\Documents\\\\Projects\\\\PPP All Data by State\\\\Utah\\\\foia_up_to_150k_UT.csv'"
      ]
     },
     "metadata": {},
     "output_type": "display_data"
    },
    {
     "data": {
      "text/plain": [
       "'D:\\\\Documents\\\\Projects\\\\PPP All Data by State\\\\Utah\\\\PPP loan data key things to keep in mind FINAL- Sunday.pdf'"
      ]
     },
     "metadata": {},
     "output_type": "display_data"
    },
    {
     "data": {
      "text/plain": [
       "'D:\\\\Documents\\\\Projects\\\\PPP All Data by State\\\\Vermont\\\\.DS_Store'"
      ]
     },
     "metadata": {},
     "output_type": "display_data"
    },
    {
     "data": {
      "text/plain": [
       "'D:\\\\Documents\\\\Projects\\\\PPP All Data by State\\\\Vermont\\\\foia_up_to_150k_VT.csv'"
      ]
     },
     "metadata": {},
     "output_type": "display_data"
    },
    {
     "data": {
      "text/plain": [
       "'D:\\\\Documents\\\\Projects\\\\PPP All Data by State\\\\Vermont\\\\PPP loan data key things to keep in mind FINAL- Sunday.pdf'"
      ]
     },
     "metadata": {},
     "output_type": "display_data"
    },
    {
     "data": {
      "text/plain": [
       "'D:\\\\Documents\\\\Projects\\\\PPP All Data by State\\\\Virgin Islands\\\\.DS_Store'"
      ]
     },
     "metadata": {},
     "output_type": "display_data"
    },
    {
     "data": {
      "text/plain": [
       "'D:\\\\Documents\\\\Projects\\\\PPP All Data by State\\\\Virgin Islands\\\\foia_up_to_150k_VI.csv'"
      ]
     },
     "metadata": {},
     "output_type": "display_data"
    },
    {
     "data": {
      "text/plain": [
       "'D:\\\\Documents\\\\Projects\\\\PPP All Data by State\\\\Virgin Islands\\\\PPP loan data key things to keep in mind FINAL- Sunday.pdf'"
      ]
     },
     "metadata": {},
     "output_type": "display_data"
    },
    {
     "data": {
      "text/plain": [
       "'D:\\\\Documents\\\\Projects\\\\PPP All Data by State\\\\Virginia\\\\.DS_Store'"
      ]
     },
     "metadata": {},
     "output_type": "display_data"
    },
    {
     "data": {
      "text/plain": [
       "'D:\\\\Documents\\\\Projects\\\\PPP All Data by State\\\\Virginia\\\\foia_up_to_150k_VA.csv'"
      ]
     },
     "metadata": {},
     "output_type": "display_data"
    },
    {
     "data": {
      "text/plain": [
       "'D:\\\\Documents\\\\Projects\\\\PPP All Data by State\\\\Virginia\\\\PPP loan data key things to keep in mind FINAL- Sunday.pdf'"
      ]
     },
     "metadata": {},
     "output_type": "display_data"
    },
    {
     "data": {
      "text/plain": [
       "'D:\\\\Documents\\\\Projects\\\\PPP All Data by State\\\\Washington\\\\.DS_Store'"
      ]
     },
     "metadata": {},
     "output_type": "display_data"
    },
    {
     "data": {
      "text/plain": [
       "'D:\\\\Documents\\\\Projects\\\\PPP All Data by State\\\\Washington\\\\foia_up_to_150k_WA.csv'"
      ]
     },
     "metadata": {},
     "output_type": "display_data"
    },
    {
     "data": {
      "text/plain": [
       "'D:\\\\Documents\\\\Projects\\\\PPP All Data by State\\\\Washington\\\\PPP loan data key things to keep in mind FINAL- Sunday.pdf'"
      ]
     },
     "metadata": {},
     "output_type": "display_data"
    },
    {
     "data": {
      "text/plain": [
       "'D:\\\\Documents\\\\Projects\\\\PPP All Data by State\\\\West Virginia\\\\.DS_Store'"
      ]
     },
     "metadata": {},
     "output_type": "display_data"
    },
    {
     "data": {
      "text/plain": [
       "'D:\\\\Documents\\\\Projects\\\\PPP All Data by State\\\\West Virginia\\\\foia_up_to_150k_WV.csv'"
      ]
     },
     "metadata": {},
     "output_type": "display_data"
    },
    {
     "data": {
      "text/plain": [
       "'D:\\\\Documents\\\\Projects\\\\PPP All Data by State\\\\West Virginia\\\\PPP loan data key things to keep in mind FINAL- Sunday.pdf'"
      ]
     },
     "metadata": {},
     "output_type": "display_data"
    },
    {
     "data": {
      "text/plain": [
       "'D:\\\\Documents\\\\Projects\\\\PPP All Data by State\\\\Wisconsin\\\\.DS_Store'"
      ]
     },
     "metadata": {},
     "output_type": "display_data"
    },
    {
     "data": {
      "text/plain": [
       "'D:\\\\Documents\\\\Projects\\\\PPP All Data by State\\\\Wisconsin\\\\foia_up_to_150k_WI.csv'"
      ]
     },
     "metadata": {},
     "output_type": "display_data"
    },
    {
     "data": {
      "text/plain": [
       "'D:\\\\Documents\\\\Projects\\\\PPP All Data by State\\\\Wisconsin\\\\PPP loan data key things to keep in mind FINAL- Sunday.pdf'"
      ]
     },
     "metadata": {},
     "output_type": "display_data"
    },
    {
     "data": {
      "text/plain": [
       "'D:\\\\Documents\\\\Projects\\\\PPP All Data by State\\\\Wyoming\\\\.DS_Store'"
      ]
     },
     "metadata": {},
     "output_type": "display_data"
    },
    {
     "data": {
      "text/plain": [
       "'D:\\\\Documents\\\\Projects\\\\PPP All Data by State\\\\Wyoming\\\\foia_up_to_150k_WY.csv'"
      ]
     },
     "metadata": {},
     "output_type": "display_data"
    },
    {
     "data": {
      "text/plain": [
       "'D:\\\\Documents\\\\Projects\\\\PPP All Data by State\\\\Wyoming\\\\PPP loan data key things to keep in mind FINAL- Sunday.pdf'"
      ]
     },
     "metadata": {},
     "output_type": "display_data"
    }
   ],
   "source": [
    "def tree_printer(root):\n",
    "    for root, dirs, files in os.walk(root):\n",
    "        for d in dirs:\n",
    "            display (os.path.join(root, d))    \n",
    "        for f in files:\n",
    "            display (os.path.join(root, f))\n",
    "tree_printer('D:\\Documents\\Projects\\PPP All Data by State')"
   ]
  },
  {
   "cell_type": "code",
   "execution_count": 24,
   "metadata": {},
   "outputs": [],
   "source": [
    "folders = []\n",
    "files=[]\n",
    "\n",
    "for entry in os.scandir(r'D:\\Documents\\Projects\\PPP All Data by State'):\n",
    "    if entry.is_dir():\n",
    "        folders.append(entry.path)\n",
    "    else:\n",
    "        continue\n",
    "\n",
    "\n",
    "for folder in folders:\n",
    "    for entry in os.scandir(folder):\n",
    "        if entry.is_file():\n",
    "            files.append(entry.path)\n",
    "        else: continue\n",
    "\n",
    "newpath = r'D:\\Documents\\Projects\\PPP Recipients' \n",
    "if not os.path.exists(newpath):\n",
    "    os.makedirs(newpath)\n",
    " \n",
    "        \n",
    "for file in files:\n",
    "    if file.find('csv') != -1:\n",
    "        dirr=file[:21]\n",
    "        split=re.split(r'[`\\=~!@#$%^&*+\\[\\]{};\\'\\\\:\"]',file)\n",
    "        doc=str(split[-1])\n",
    "        newf='\\\\'\n",
    "        newloc=newpath+newf+doc\n",
    "        os.rename(file, newloc)\n",
    "    else: continue"
   ]
  },
  {
   "cell_type": "code",
   "execution_count": 25,
   "metadata": {
    "scrolled": true
   },
   "outputs": [
    {
     "data": {
      "text/plain": [
       "'D:\\\\Documents\\\\Projects\\\\PPP Recipients\\\\foia_150k_plus.csv'"
      ]
     },
     "metadata": {},
     "output_type": "display_data"
    },
    {
     "data": {
      "text/plain": [
       "'D:\\\\Documents\\\\Projects\\\\PPP Recipients\\\\foia_up_to_150k_AK.csv'"
      ]
     },
     "metadata": {},
     "output_type": "display_data"
    },
    {
     "data": {
      "text/plain": [
       "'D:\\\\Documents\\\\Projects\\\\PPP Recipients\\\\foia_up_to_150k_AL.csv'"
      ]
     },
     "metadata": {},
     "output_type": "display_data"
    },
    {
     "data": {
      "text/plain": [
       "'D:\\\\Documents\\\\Projects\\\\PPP Recipients\\\\foia_up_to_150k_AR.csv'"
      ]
     },
     "metadata": {},
     "output_type": "display_data"
    },
    {
     "data": {
      "text/plain": [
       "'D:\\\\Documents\\\\Projects\\\\PPP Recipients\\\\foia_up_to_150k_AS.csv'"
      ]
     },
     "metadata": {},
     "output_type": "display_data"
    },
    {
     "data": {
      "text/plain": [
       "'D:\\\\Documents\\\\Projects\\\\PPP Recipients\\\\foia_up_to_150k_AZ.csv'"
      ]
     },
     "metadata": {},
     "output_type": "display_data"
    },
    {
     "data": {
      "text/plain": [
       "'D:\\\\Documents\\\\Projects\\\\PPP Recipients\\\\foia_up_to_150k_CA.csv'"
      ]
     },
     "metadata": {},
     "output_type": "display_data"
    },
    {
     "data": {
      "text/plain": [
       "'D:\\\\Documents\\\\Projects\\\\PPP Recipients\\\\foia_up_to_150k_CO.csv'"
      ]
     },
     "metadata": {},
     "output_type": "display_data"
    },
    {
     "data": {
      "text/plain": [
       "'D:\\\\Documents\\\\Projects\\\\PPP Recipients\\\\foia_up_to_150k_CT.csv'"
      ]
     },
     "metadata": {},
     "output_type": "display_data"
    },
    {
     "data": {
      "text/plain": [
       "'D:\\\\Documents\\\\Projects\\\\PPP Recipients\\\\foia_up_to_150k_DC.csv'"
      ]
     },
     "metadata": {},
     "output_type": "display_data"
    },
    {
     "data": {
      "text/plain": [
       "'D:\\\\Documents\\\\Projects\\\\PPP Recipients\\\\foia_up_to_150k_DE.csv'"
      ]
     },
     "metadata": {},
     "output_type": "display_data"
    },
    {
     "data": {
      "text/plain": [
       "'D:\\\\Documents\\\\Projects\\\\PPP Recipients\\\\foia_up_to_150k_FL.csv'"
      ]
     },
     "metadata": {},
     "output_type": "display_data"
    },
    {
     "data": {
      "text/plain": [
       "'D:\\\\Documents\\\\Projects\\\\PPP Recipients\\\\foia_up_to_150k_GA.csv'"
      ]
     },
     "metadata": {},
     "output_type": "display_data"
    },
    {
     "data": {
      "text/plain": [
       "'D:\\\\Documents\\\\Projects\\\\PPP Recipients\\\\foia_up_to_150k_GU.csv'"
      ]
     },
     "metadata": {},
     "output_type": "display_data"
    },
    {
     "data": {
      "text/plain": [
       "'D:\\\\Documents\\\\Projects\\\\PPP Recipients\\\\foia_up_to_150k_HI.csv'"
      ]
     },
     "metadata": {},
     "output_type": "display_data"
    },
    {
     "data": {
      "text/plain": [
       "'D:\\\\Documents\\\\Projects\\\\PPP Recipients\\\\foia_up_to_150k_IA.csv'"
      ]
     },
     "metadata": {},
     "output_type": "display_data"
    },
    {
     "data": {
      "text/plain": [
       "'D:\\\\Documents\\\\Projects\\\\PPP Recipients\\\\foia_up_to_150k_ID.csv'"
      ]
     },
     "metadata": {},
     "output_type": "display_data"
    },
    {
     "data": {
      "text/plain": [
       "'D:\\\\Documents\\\\Projects\\\\PPP Recipients\\\\foia_up_to_150k_IL.csv'"
      ]
     },
     "metadata": {},
     "output_type": "display_data"
    },
    {
     "data": {
      "text/plain": [
       "'D:\\\\Documents\\\\Projects\\\\PPP Recipients\\\\foia_up_to_150k_IN.csv'"
      ]
     },
     "metadata": {},
     "output_type": "display_data"
    },
    {
     "data": {
      "text/plain": [
       "'D:\\\\Documents\\\\Projects\\\\PPP Recipients\\\\foia_up_to_150k_KS.csv'"
      ]
     },
     "metadata": {},
     "output_type": "display_data"
    },
    {
     "data": {
      "text/plain": [
       "'D:\\\\Documents\\\\Projects\\\\PPP Recipients\\\\foia_up_to_150k_KY.csv'"
      ]
     },
     "metadata": {},
     "output_type": "display_data"
    },
    {
     "data": {
      "text/plain": [
       "'D:\\\\Documents\\\\Projects\\\\PPP Recipients\\\\foia_up_to_150k_LA.csv'"
      ]
     },
     "metadata": {},
     "output_type": "display_data"
    },
    {
     "data": {
      "text/plain": [
       "'D:\\\\Documents\\\\Projects\\\\PPP Recipients\\\\foia_up_to_150k_MA.csv'"
      ]
     },
     "metadata": {},
     "output_type": "display_data"
    },
    {
     "data": {
      "text/plain": [
       "'D:\\\\Documents\\\\Projects\\\\PPP Recipients\\\\foia_up_to_150k_MD.csv'"
      ]
     },
     "metadata": {},
     "output_type": "display_data"
    },
    {
     "data": {
      "text/plain": [
       "'D:\\\\Documents\\\\Projects\\\\PPP Recipients\\\\foia_up_to_150k_ME.csv'"
      ]
     },
     "metadata": {},
     "output_type": "display_data"
    },
    {
     "data": {
      "text/plain": [
       "'D:\\\\Documents\\\\Projects\\\\PPP Recipients\\\\foia_up_to_150k_MI.csv'"
      ]
     },
     "metadata": {},
     "output_type": "display_data"
    },
    {
     "data": {
      "text/plain": [
       "'D:\\\\Documents\\\\Projects\\\\PPP Recipients\\\\foia_up_to_150k_MN.csv'"
      ]
     },
     "metadata": {},
     "output_type": "display_data"
    },
    {
     "data": {
      "text/plain": [
       "'D:\\\\Documents\\\\Projects\\\\PPP Recipients\\\\foia_up_to_150k_MO.csv'"
      ]
     },
     "metadata": {},
     "output_type": "display_data"
    },
    {
     "data": {
      "text/plain": [
       "'D:\\\\Documents\\\\Projects\\\\PPP Recipients\\\\foia_up_to_150k_MP.csv'"
      ]
     },
     "metadata": {},
     "output_type": "display_data"
    },
    {
     "data": {
      "text/plain": [
       "'D:\\\\Documents\\\\Projects\\\\PPP Recipients\\\\foia_up_to_150k_MS.csv'"
      ]
     },
     "metadata": {},
     "output_type": "display_data"
    },
    {
     "data": {
      "text/plain": [
       "'D:\\\\Documents\\\\Projects\\\\PPP Recipients\\\\foia_up_to_150k_MT.csv'"
      ]
     },
     "metadata": {},
     "output_type": "display_data"
    },
    {
     "data": {
      "text/plain": [
       "'D:\\\\Documents\\\\Projects\\\\PPP Recipients\\\\foia_up_to_150k_NC.csv'"
      ]
     },
     "metadata": {},
     "output_type": "display_data"
    },
    {
     "data": {
      "text/plain": [
       "'D:\\\\Documents\\\\Projects\\\\PPP Recipients\\\\foia_up_to_150k_ND.csv'"
      ]
     },
     "metadata": {},
     "output_type": "display_data"
    },
    {
     "data": {
      "text/plain": [
       "'D:\\\\Documents\\\\Projects\\\\PPP Recipients\\\\foia_up_to_150k_NE.csv'"
      ]
     },
     "metadata": {},
     "output_type": "display_data"
    },
    {
     "data": {
      "text/plain": [
       "'D:\\\\Documents\\\\Projects\\\\PPP Recipients\\\\foia_up_to_150k_NH.csv'"
      ]
     },
     "metadata": {},
     "output_type": "display_data"
    },
    {
     "data": {
      "text/plain": [
       "'D:\\\\Documents\\\\Projects\\\\PPP Recipients\\\\foia_up_to_150k_NJ.csv'"
      ]
     },
     "metadata": {},
     "output_type": "display_data"
    },
    {
     "data": {
      "text/plain": [
       "'D:\\\\Documents\\\\Projects\\\\PPP Recipients\\\\foia_up_to_150k_NM.csv'"
      ]
     },
     "metadata": {},
     "output_type": "display_data"
    },
    {
     "data": {
      "text/plain": [
       "'D:\\\\Documents\\\\Projects\\\\PPP Recipients\\\\foia_up_to_150k_NV.csv'"
      ]
     },
     "metadata": {},
     "output_type": "display_data"
    },
    {
     "data": {
      "text/plain": [
       "'D:\\\\Documents\\\\Projects\\\\PPP Recipients\\\\foia_up_to_150k_NY.csv'"
      ]
     },
     "metadata": {},
     "output_type": "display_data"
    },
    {
     "data": {
      "text/plain": [
       "'D:\\\\Documents\\\\Projects\\\\PPP Recipients\\\\foia_up_to_150k_OH.csv'"
      ]
     },
     "metadata": {},
     "output_type": "display_data"
    },
    {
     "data": {
      "text/plain": [
       "'D:\\\\Documents\\\\Projects\\\\PPP Recipients\\\\foia_up_to_150k_OK.csv'"
      ]
     },
     "metadata": {},
     "output_type": "display_data"
    },
    {
     "data": {
      "text/plain": [
       "'D:\\\\Documents\\\\Projects\\\\PPP Recipients\\\\foia_up_to_150k_OR.csv'"
      ]
     },
     "metadata": {},
     "output_type": "display_data"
    },
    {
     "data": {
      "text/plain": [
       "'D:\\\\Documents\\\\Projects\\\\PPP Recipients\\\\foia_up_to_150k_other.csv'"
      ]
     },
     "metadata": {},
     "output_type": "display_data"
    },
    {
     "data": {
      "text/plain": [
       "'D:\\\\Documents\\\\Projects\\\\PPP Recipients\\\\foia_up_to_150k_PA.csv'"
      ]
     },
     "metadata": {},
     "output_type": "display_data"
    },
    {
     "data": {
      "text/plain": [
       "'D:\\\\Documents\\\\Projects\\\\PPP Recipients\\\\foia_up_to_150k_PR.csv'"
      ]
     },
     "metadata": {},
     "output_type": "display_data"
    },
    {
     "data": {
      "text/plain": [
       "'D:\\\\Documents\\\\Projects\\\\PPP Recipients\\\\foia_up_to_150k_RI.csv'"
      ]
     },
     "metadata": {},
     "output_type": "display_data"
    },
    {
     "data": {
      "text/plain": [
       "'D:\\\\Documents\\\\Projects\\\\PPP Recipients\\\\foia_up_to_150k_SC.csv'"
      ]
     },
     "metadata": {},
     "output_type": "display_data"
    },
    {
     "data": {
      "text/plain": [
       "'D:\\\\Documents\\\\Projects\\\\PPP Recipients\\\\foia_up_to_150k_SD.csv'"
      ]
     },
     "metadata": {},
     "output_type": "display_data"
    },
    {
     "data": {
      "text/plain": [
       "'D:\\\\Documents\\\\Projects\\\\PPP Recipients\\\\foia_up_to_150k_TN.csv'"
      ]
     },
     "metadata": {},
     "output_type": "display_data"
    },
    {
     "data": {
      "text/plain": [
       "'D:\\\\Documents\\\\Projects\\\\PPP Recipients\\\\foia_up_to_150k_TX.csv'"
      ]
     },
     "metadata": {},
     "output_type": "display_data"
    },
    {
     "data": {
      "text/plain": [
       "'D:\\\\Documents\\\\Projects\\\\PPP Recipients\\\\foia_up_to_150k_UT.csv'"
      ]
     },
     "metadata": {},
     "output_type": "display_data"
    },
    {
     "data": {
      "text/plain": [
       "'D:\\\\Documents\\\\Projects\\\\PPP Recipients\\\\foia_up_to_150k_VA.csv'"
      ]
     },
     "metadata": {},
     "output_type": "display_data"
    },
    {
     "data": {
      "text/plain": [
       "'D:\\\\Documents\\\\Projects\\\\PPP Recipients\\\\foia_up_to_150k_VI.csv'"
      ]
     },
     "metadata": {},
     "output_type": "display_data"
    },
    {
     "data": {
      "text/plain": [
       "'D:\\\\Documents\\\\Projects\\\\PPP Recipients\\\\foia_up_to_150k_VT.csv'"
      ]
     },
     "metadata": {},
     "output_type": "display_data"
    },
    {
     "data": {
      "text/plain": [
       "'D:\\\\Documents\\\\Projects\\\\PPP Recipients\\\\foia_up_to_150k_WA.csv'"
      ]
     },
     "metadata": {},
     "output_type": "display_data"
    },
    {
     "data": {
      "text/plain": [
       "'D:\\\\Documents\\\\Projects\\\\PPP Recipients\\\\foia_up_to_150k_WI.csv'"
      ]
     },
     "metadata": {},
     "output_type": "display_data"
    },
    {
     "data": {
      "text/plain": [
       "'D:\\\\Documents\\\\Projects\\\\PPP Recipients\\\\foia_up_to_150k_WV.csv'"
      ]
     },
     "metadata": {},
     "output_type": "display_data"
    },
    {
     "data": {
      "text/plain": [
       "'D:\\\\Documents\\\\Projects\\\\PPP Recipients\\\\foia_up_to_150k_WY.csv'"
      ]
     },
     "metadata": {},
     "output_type": "display_data"
    }
   ],
   "source": [
    "tree_printer('D:\\Documents\\Projects\\PPP Recipients')"
   ]
  }
 ],
 "metadata": {
  "kernelspec": {
   "display_name": "Python 3",
   "language": "python",
   "name": "python3"
  },
  "language_info": {
   "codemirror_mode": {
    "name": "ipython",
    "version": 3
   },
   "file_extension": ".py",
   "mimetype": "text/x-python",
   "name": "python",
   "nbconvert_exporter": "python",
   "pygments_lexer": "ipython3",
   "version": "3.7.6"
  }
 },
 "nbformat": 4,
 "nbformat_minor": 4
}
